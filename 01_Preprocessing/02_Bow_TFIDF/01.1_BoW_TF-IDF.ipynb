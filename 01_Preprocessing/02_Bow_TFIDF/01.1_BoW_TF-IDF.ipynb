{
 "cells": [
  {
   "cell_type": "code",
   "execution_count": 1,
   "metadata": {},
   "outputs": [],
   "source": [
    "import os"
   ]
  },
  {
   "cell_type": "code",
   "execution_count": 2,
   "metadata": {},
   "outputs": [],
   "source": [
    "import matplotlib.pyplot as plt\n",
    "import pandas as pd\n",
    "import numpy as np\n",
    "import seaborn as sns\n",
    "import glob\n",
    "import sys\n",
    "import pandas as pd\n",
    "#import tensorflow\n",
    "#import keras\n",
    "#import wordcloud\n",
    "import nltk\n",
    "import inspect\n",
    "import re\n",
    "import unicodedata\n",
    "\n",
    "#nltk.download('stopwords')\n",
    "\n",
    "from wordcloud import WordCloud\n",
    "from nltk.tokenize import word_tokenize\n",
    "from nltk.tokenize import sent_tokenize\n",
    "\n",
    "from nltk.corpus import stopwords\n",
    "from string import punctuation\n",
    "from nltk.stem import RSLPStemmer #Stemmer for portugese words.\n",
    "\n",
    "from nltk.probability import FreqDist\n",
    "from collections import defaultdict\n",
    "from heapq import nlargest\n",
    "stop = stopwords.words('portuguese')\n"
   ]
  },
  {
   "cell_type": "code",
   "execution_count": 3,
   "metadata": {},
   "outputs": [],
   "source": [
    "# Importing libraries\n",
    "import pandas as pd\n",
    "import numpy as np\n",
    "import seaborn as sns\n",
    "import matplotlib.pyplot as plt\n",
    "#%matplotlib inline\n",
    "from matplotlib.gridspec import GridSpec\n",
    "#import missingno as msno\n",
    "import re\n",
    "from collections import Counter\n",
    "import nltk\n",
    "from nltk.corpus import stopwords\n",
    "from nltk.stem import RSLPStemmer\n",
    "import string\n",
    "import sys\n",
    "from sklearn.model_selection import train_test_split\n",
    "from sklearn.feature_extraction.text import CountVectorizer, TfidfVectorizer\n",
    "from sklearn.base import BaseEstimator, TransformerMixin\n",
    "from scipy.sparse import csr_matrix\n",
    "from sklearn.pipeline import Pipeline\n",
    "from sklearn.linear_model import LogisticRegression\n",
    "from sklearn.model_selection import cross_val_score, cross_val_predict\n",
    "from sklearn.metrics import confusion_matrix, accuracy_score, precision_score, recall_score, f1_score\n",
    "from sklearn.feature_extraction.text import CountVectorizer\n",
    "from sklearn.feature_extraction.text import TfidfVectorizer\n",
    "import time\n",
    "import sys\n",
    "import math\n",
    "import itertools\n",
    "from sklearn.naive_bayes import GaussianNB\n",
    "from sklearn.svm import SVC\n",
    "#import folium\n",
    "#from folium.plugins import Fullscreen\n",
    "#import geopandas as gpd\n",
    "import json\n",
    "from wordcloud import WordCloud\n",
    "import warnings\n",
    "warnings.filterwarnings('ignore')"
   ]
  },
  {
   "cell_type": "code",
   "execution_count": 4,
   "metadata": {},
   "outputs": [
    {
     "data": {
      "text/plain": [
       "'C:\\\\Users\\\\d.cadavid141\\\\Documents\\\\Coisas Daniela\\\\201920\\\\201920\\\\00_Bases\\\\brazilian-ecommerce'"
      ]
     },
     "execution_count": 4,
     "metadata": {},
     "output_type": "execute_result"
    }
   ],
   "source": [
    "import os\n",
    "#os.chdir(\"/Users/danielacadavid/Documents/Universidad/Maestria/201920/00_Bases/brazilian-ecommerce/\")\n",
    "os.chdir(\"C:\\\\Users\\\\d.cadavid141\\\\Documents\\\\Coisas Daniela\\\\201920\\\\201920\\\\00_Bases\\\\brazilian-ecommerce\\\\\")\n",
    "os.getcwd()"
   ]
  },
  {
   "cell_type": "code",
   "execution_count": 5,
   "metadata": {},
   "outputs": [],
   "source": [
    "orders=pd.read_csv('data_tratada_v_nao.csv')"
   ]
  },
  {
   "cell_type": "code",
   "execution_count": 6,
   "metadata": {},
   "outputs": [],
   "source": [
    "####### ACA SE CREA EL BOW\n",
    "\n",
    "cv = CountVectorizer()\n",
    "X_count = cv.fit_transform(orders[\"review_comment_message\"]).toarray()\n",
    "y_count = orders.review_score"
   ]
  },
  {
   "cell_type": "code",
   "execution_count": 8,
   "metadata": {},
   "outputs": [],
   "source": [
    "np.set_printoptions(threshold=sys.maxsize)\n",
    "np.set_printoptions(precision=6)\n",
    "#np.arange(10000).reshape(250,40)\n",
    "#print(f'Comentario 9:\\n')\n",
    "#print(f'{X_count[9]}\\n')"
   ]
  },
  {
   "cell_type": "code",
   "execution_count": 9,
   "metadata": {},
   "outputs": [],
   "source": [
    "####### ACA SE CREA EL BOW\n",
    "\n",
    "vectorizer = TfidfVectorizer()\n",
    "X_tfidf = vectorizer.fit_transform(orders.review_comment_message).toarray()\n",
    "#X_tfidf = X_tfidf.todense()"
   ]
  },
  {
   "cell_type": "code",
   "execution_count": 10,
   "metadata": {},
   "outputs": [],
   "source": [
    "#X_tfidf[9]"
   ]
  },
  {
   "cell_type": "code",
   "execution_count": 11,
   "metadata": {},
   "outputs": [],
   "source": [
    "#vectorizer.get_feature_names()"
   ]
  },
  {
   "cell_type": "code",
   "execution_count": 12,
   "metadata": {},
   "outputs": [
    {
     "data": {
      "text/plain": [
       "10177"
      ]
     },
     "execution_count": 12,
     "metadata": {},
     "output_type": "execute_result"
    }
   ],
   "source": [
    "palabras=vectorizer.get_feature_names()\n",
    "palabras.append('Y')\n",
    "len(palabras)"
   ]
  },
  {
   "cell_type": "code",
   "execution_count": 13,
   "metadata": {},
   "outputs": [
    {
     "data": {
      "text/plain": [
       "(41753, 10177)"
      ]
     },
     "execution_count": 13,
     "metadata": {},
     "output_type": "execute_result"
    }
   ],
   "source": [
    "Bow=np.column_stack((X_count, y_count))\n",
    "tfidf=np.column_stack((X_tfidf, y_count))\n",
    "Bow.shape"
   ]
  },
  {
   "cell_type": "code",
   "execution_count": 14,
   "metadata": {},
   "outputs": [
    {
     "data": {
      "text/plain": [
       "10177"
      ]
     },
     "execution_count": 14,
     "metadata": {},
     "output_type": "execute_result"
    }
   ],
   "source": [
    "df_tfidf = pd.DataFrame(tfidf)\n",
    "df_Bow = pd.DataFrame(Bow)\n",
    "df_tfidf.columns= palabras\n",
    "df_Bow.columns= palabras\n",
    "len(list(df_Bow.columns))"
   ]
  },
  {
   "cell_type": "code",
   "execution_count": 22,
   "metadata": {},
   "outputs": [
    {
     "name": "stdout",
     "output_type": "stream",
     "text": [
      "Comentario 9, palabra comprar (#2.021):\n",
      "TF-IDF: 0.1514897326738184\n",
      "\n",
      "Comentario 9, palabra facil (#4.045):\n",
      "TF-IDF: 0.3202970389092211\n",
      "\n",
      "Comentario 9, palabra antar (#563):\n",
      "TF-IDF: 0.15883296416989792\n",
      "\n",
      "Comentario 9, palabra produto (#7.732):\n",
      "TF-IDF: 0.0964268258993828\n",
      "\n",
      "Comentario 9, palabra outro (#6.906):\n",
      "TF-IDF: 0.0\n",
      "\n",
      "Comentario 9, palabra preto (#7.648):\n",
      "TF-IDF: 0.0\n",
      "\n"
     ]
    }
   ],
   "source": [
    "print(f'Comentario 9, palabra comprar (#2.021):')\n",
    "print('TF-IDF:',f'{X_tfidf[9,2021]}\\n')\n",
    "\n",
    "print(f'Comentario 9, palabra facil (#4.045):')\n",
    "print('TF-IDF:',f'{X_tfidf[9,4045]}\\n')\n",
    "\n",
    "print(f'Comentario 9, palabra antar (#563):')\n",
    "print('TF-IDF:',f'{X_tfidf[9,563]}\\n')\n",
    "\n",
    "print(f'Comentario 9, palabra produto (#7.732):')\n",
    "print('TF-IDF:',f'{X_tfidf[9,7732]}\\n')\n",
    "\n",
    "print(f'Comentario 9, palabra outro (#6.906):')\n",
    "print('TF-IDF:',f'{X_tfidf[9,6906]}\\n')\n",
    "\n",
    "print(f'Comentario 9, palabra preto (#7.648):')\n",
    "print('TF-IDF:',f'{X_tfidf[9,7648]}\\n')"
   ]
  },
  {
   "cell_type": "code",
   "execution_count": 23,
   "metadata": {},
   "outputs": [
    {
     "data": {
      "text/plain": [
       "2021"
      ]
     },
     "execution_count": 23,
     "metadata": {},
     "output_type": "execute_result"
    }
   ],
   "source": [
    "#['comprar', 'realizado', 'fácil', 'entregar', 'efetuada', 'antar', 'prazo', 'dar', 'produto', 'começar', 'ser', 'usar', 'presentar', 'problema']\n",
    "palabras.index('comprar')"
   ]
  },
  {
   "cell_type": "code",
   "execution_count": 24,
   "metadata": {},
   "outputs": [
    {
     "data": {
      "text/plain": [
       "563"
      ]
     },
     "execution_count": 24,
     "metadata": {},
     "output_type": "execute_result"
    }
   ],
   "source": [
    "palabras.index('antar')"
   ]
  },
  {
   "cell_type": "code",
   "execution_count": 25,
   "metadata": {},
   "outputs": [
    {
     "data": {
      "text/plain": [
       "4045"
      ]
     },
     "execution_count": 25,
     "metadata": {},
     "output_type": "execute_result"
    }
   ],
   "source": [
    "palabras.index('facil')"
   ]
  },
  {
   "cell_type": "code",
   "execution_count": 26,
   "metadata": {},
   "outputs": [
    {
     "data": {
      "text/plain": [
       "7732"
      ]
     },
     "execution_count": 26,
     "metadata": {},
     "output_type": "execute_result"
    }
   ],
   "source": [
    "palabras.index('produto')"
   ]
  },
  {
   "cell_type": "code",
   "execution_count": 27,
   "metadata": {},
   "outputs": [
    {
     "data": {
      "text/plain": [
       "6906"
      ]
     },
     "execution_count": 27,
     "metadata": {},
     "output_type": "execute_result"
    }
   ],
   "source": [
    "palabras.index('outro')"
   ]
  },
  {
   "cell_type": "code",
   "execution_count": 28,
   "metadata": {},
   "outputs": [
    {
     "data": {
      "text/plain": [
       "7648"
      ]
     },
     "execution_count": 28,
     "metadata": {},
     "output_type": "execute_result"
    }
   ],
   "source": [
    "palabras.index('preto')"
   ]
  },
  {
   "cell_type": "code",
   "execution_count": 29,
   "metadata": {},
   "outputs": [
    {
     "name": "stdout",
     "output_type": "stream",
     "text": [
      "Comentario 234, palabra comprar (#2.021):\n",
      "TF-IDF: 0.1627945648330083\n",
      "\n",
      "Comentario 234, palabra facil (#4.045):\n",
      "TF-IDF: 0.0\n",
      "\n",
      "Comentario 234, palabra antar (#563):\n",
      "TF-IDF: 0.0\n",
      "\n",
      "Comentario 234, palabra produto (#7.732):\n",
      "TF-IDF: 0.20724524208274983\n",
      "\n",
      "Comentario 234, palabra outro (#6.906):\n",
      "TF-IDF: 0.25259771335378983\n",
      "\n",
      "Comentario 234, palabra preto (#7.648):\n",
      "TF-IDF: 0.0\n",
      "\n"
     ]
    }
   ],
   "source": [
    "print(f'Comentario 234, palabra comprar (#2.021):')\n",
    "print('TF-IDF:',f'{X_tfidf[234,2021]}\\n')\n",
    "\n",
    "print(f'Comentario 234, palabra facil (#4.045):')\n",
    "print('TF-IDF:',f'{X_tfidf[234,4045]}\\n')\n",
    "\n",
    "print(f'Comentario 234, palabra antar (#563):')\n",
    "print('TF-IDF:',f'{X_tfidf[234,563]}\\n')\n",
    "\n",
    "print(f'Comentario 234, palabra produto (#7.732):')\n",
    "print('TF-IDF:',f'{X_tfidf[234,7732]}\\n')\n",
    "\n",
    "print(f'Comentario 234, palabra outro (#6.906):')\n",
    "print('TF-IDF:',f'{X_tfidf[234,6906]}\\n')\n",
    "\n",
    "print(f'Comentario 234, palabra preto (#7.648):')\n",
    "print('TF-IDF:',f'{X_tfidf[234,7648]}\\n')"
   ]
  },
  {
   "cell_type": "code",
   "execution_count": 31,
   "metadata": {},
   "outputs": [
    {
     "name": "stdout",
     "output_type": "stream",
     "text": [
      "Comentario 10.796, palabra comprar (#2.021):\n",
      "TF-IDF: 0.1065202742957626\n",
      "\n",
      "Comentario 10.796, palabra facil (#4.045):\n",
      "TF-IDF: 0.0\n",
      "\n",
      "Comentario 10.796, palabra antar (#563):\n",
      "TF-IDF: 0.0\n",
      "\n",
      "Comentario 10.796, palabra produto (#7.732):\n",
      "TF-IDF: 0.13560538741444597\n",
      "\n",
      "Comentario 10.796, palabra outro (#6.906):\n",
      "TF-IDF: 0.0\n",
      "\n",
      "Comentario 10.796, palabra preto (#7.648):\n",
      "TF-IDF: 0.23365594460777084\n",
      "\n"
     ]
    }
   ],
   "source": [
    "print(f'Comentario 10.796, palabra comprar (#2.021):')\n",
    "print('TF-IDF:',f'{X_tfidf[10796,2021]}\\n')\n",
    "\n",
    "print(f'Comentario 10.796, palabra facil (#4.045):')\n",
    "print('TF-IDF:',f'{X_tfidf[10796,4045]}\\n')\n",
    "\n",
    "print(f'Comentario 10.796, palabra antar (#563):')\n",
    "print('TF-IDF:',f'{X_tfidf[10796,563]}\\n')\n",
    "\n",
    "print(f'Comentario 10.796, palabra produto (#7.732):')\n",
    "print('TF-IDF:',f'{X_tfidf[10796,7732]}\\n')\n",
    "\n",
    "print(f'Comentario 10.796, palabra outro (#6.906):')\n",
    "print('TF-IDF:',f'{X_tfidf[10796,6906]}\\n')\n",
    "\n",
    "print(f'Comentario 10.796, palabra preto (#7.648):')\n",
    "print('TF-IDF:',f'{X_tfidf[10796,7648]}\\n')"
   ]
  },
  {
   "cell_type": "code",
   "execution_count": 32,
   "metadata": {},
   "outputs": [],
   "source": [
    "stop = stopwords.words('portuguese')\n",
    "test_stop=stop\n",
    "test_stop.remove('não')"
   ]
  },
  {
   "cell_type": "code",
   "execution_count": 33,
   "metadata": {},
   "outputs": [
    {
     "data": {
      "text/plain": [
       "array([0.      , 0.      , 0.      , 0.      , 0.      , 0.      ,\n",
       "       0.      , 0.      , 0.      , 0.      , 0.      , 0.      ,\n",
       "       0.      , 0.      , 0.      , 0.351136, 0.      , 0.      ,\n",
       "       0.      , 0.      , 0.      , 0.      , 0.      , 0.      ,\n",
       "       0.      , 0.      , 0.      , 0.      , 0.      , 0.      ,\n",
       "       0.      , 0.426607, 0.      , 0.      , 0.      , 0.      ,\n",
       "       0.      , 0.      , 0.      , 0.      , 0.      , 0.      ,\n",
       "       0.      , 0.      , 0.      , 0.      , 0.      , 0.      ,\n",
       "       0.      , 0.      , 0.      , 0.      , 0.      , 0.      ,\n",
       "       0.      , 0.      , 0.      , 0.      , 0.      , 0.      ,\n",
       "       0.      , 0.      , 0.      , 0.      , 0.      , 0.      ,\n",
       "       0.      , 0.      , 0.      , 0.      , 0.      , 0.      ,\n",
       "       0.      , 0.      , 0.      , 0.      , 0.      , 0.      ,\n",
       "       0.      , 0.      , 0.      , 0.      , 0.      , 0.      ,\n",
       "       0.      , 0.      , 0.      , 0.      , 0.      , 0.      ,\n",
       "       0.      , 0.      , 0.      , 0.      , 0.      , 0.      ,\n",
       "       0.      , 0.      , 0.      , 0.      , 0.      , 0.      ,\n",
       "       0.      , 0.      , 0.      , 0.      , 0.      , 0.      ,\n",
       "       0.      , 0.      , 0.      , 0.69599 , 0.      , 0.      ,\n",
       "       0.      , 0.      , 0.      , 0.      , 0.      , 0.      ,\n",
       "       0.      , 0.      , 0.      , 0.      , 0.      , 0.      ,\n",
       "       0.      , 0.      , 0.      , 0.      , 0.      , 0.      ,\n",
       "       0.      , 0.      , 0.      , 0.      , 0.      , 0.      ,\n",
       "       0.      , 0.      , 0.      , 0.      , 0.      , 0.      ,\n",
       "       0.      , 0.      , 0.      , 0.      , 0.      , 0.      ,\n",
       "       0.      , 0.      , 0.      , 0.      , 0.      , 0.      ,\n",
       "       0.      , 0.      , 0.      , 0.      , 0.      , 0.      ,\n",
       "       0.      , 0.      , 0.      , 0.      , 0.      , 0.      ,\n",
       "       0.      , 0.      , 0.      , 0.      , 0.      , 0.      ,\n",
       "       0.      , 0.      , 0.      , 0.      , 0.      , 0.      ,\n",
       "       0.      , 0.      , 0.      , 0.      , 0.      , 0.      ,\n",
       "       0.      , 0.      , 0.      , 0.      , 0.      , 0.      ,\n",
       "       0.      , 0.      , 0.      , 0.      , 0.      , 0.      ,\n",
       "       0.      , 0.      , 0.      , 0.      , 0.      , 0.      ,\n",
       "       0.      , 0.      , 0.      , 0.      , 0.      , 0.      ,\n",
       "       0.      , 0.      , 0.      , 0.      , 0.      , 0.      ,\n",
       "       0.304095, 0.      , 0.      , 0.      , 0.      , 0.      ,\n",
       "       0.      , 0.      , 0.      , 0.      , 0.      , 0.      ,\n",
       "       0.      , 0.      , 0.      , 0.      , 0.      , 0.      ,\n",
       "       0.      , 0.      , 0.      , 0.      , 0.34327 , 0.      ,\n",
       "       0.      , 0.      , 0.      , 0.      , 0.      , 0.      ,\n",
       "       0.      , 0.      , 0.      , 0.      , 0.      , 0.      ,\n",
       "       0.      , 0.      , 0.      , 0.      , 0.      , 0.      ,\n",
       "       0.      , 0.      , 0.      , 0.      , 0.      , 0.      ,\n",
       "       0.      , 0.      , 0.      , 0.      , 0.      , 0.      ,\n",
       "       0.      , 0.      , 0.      , 0.      , 0.      , 0.      ,\n",
       "       0.      , 0.      , 0.      , 0.      , 0.      , 0.      ,\n",
       "       0.      , 0.      , 0.      , 0.      , 0.      , 0.      ,\n",
       "       0.      , 0.      , 0.      , 0.      , 0.      , 0.      ,\n",
       "       0.      , 0.      , 0.      , 0.      , 0.      , 0.      ])"
      ]
     },
     "execution_count": 33,
     "metadata": {},
     "output_type": "execute_result"
    }
   ],
   "source": [
    "# Applying TD-IDF\n",
    "X = list(orders['review_comment_message'])\n",
    "y = orders.review_score\n",
    "count_vectorizer = CountVectorizer(max_features=300, stop_words=test_stop).fit(X)\n",
    "vectorizer = TfidfVectorizer(max_features=300, stop_words=test_stop)\n",
    "processed_features = vectorizer.fit_transform(X).toarray()\n",
    "\n",
    "# Review processed\n",
    "processed_features[0]"
   ]
  },
  {
   "cell_type": "code",
   "execution_count": 93,
   "metadata": {},
   "outputs": [
    {
     "ename": "ValueError",
     "evalue": "1.0 is not in list",
     "output_type": "error",
     "traceback": [
      "\u001b[0;31m---------------------------------------------------------------------------\u001b[0m",
      "\u001b[0;31mValueError\u001b[0m                                Traceback (most recent call last)",
      "\u001b[0;32m<ipython-input-93-57d57353f115>\u001b[0m in \u001b[0;36m<module>\u001b[0;34m\u001b[0m\n\u001b[1;32m      2\u001b[0m \u001b[0;32mfor\u001b[0m \u001b[0mi\u001b[0m \u001b[0;32min\u001b[0m \u001b[0mprocessed_features\u001b[0m\u001b[0;34m[\u001b[0m\u001b[0;36m8\u001b[0m\u001b[0;34m]\u001b[0m\u001b[0;34m:\u001b[0m\u001b[0;34m\u001b[0m\u001b[0;34m\u001b[0m\u001b[0m\n\u001b[1;32m      3\u001b[0m     \u001b[0;32mif\u001b[0m \u001b[0mi\u001b[0m \u001b[0;34m>\u001b[0m \u001b[0;36m0\u001b[0m\u001b[0;34m:\u001b[0m\u001b[0;34m\u001b[0m\u001b[0;34m\u001b[0m\u001b[0m\n\u001b[0;32m----> 4\u001b[0;31m         \u001b[0mprint\u001b[0m\u001b[0;34m(\u001b[0m\u001b[0;34mf'Word on Vocab: {list(processed_features[0]).index(i)} - TF-IDF: {i}'\u001b[0m\u001b[0;34m)\u001b[0m\u001b[0;34m\u001b[0m\u001b[0;34m\u001b[0m\u001b[0m\n\u001b[0m",
      "\u001b[0;31mValueError\u001b[0m: 1.0 is not in list"
     ]
    }
   ],
   "source": [
    "# TF-IDF from words at first review\n",
    "for i in processed_features[0]:\n",
    "    if i > 0:\n",
    "        print(f'Word on Vocab: {list(processed_features[0]).index(i)} - TF-IDF: {i}')"
   ]
  },
  {
   "cell_type": "code",
   "execution_count": 34,
   "metadata": {},
   "outputs": [
    {
     "name": "stdout",
     "output_type": "stream",
     "text": [
      "Palavra: receber      - Contagem: 238        - TF-IDF: 2.935877775714049\n",
      "Palavra: bem          - Contagem: 31         - TF-IDF: 3.64863507098158\n",
      "Palavra: antar        - Contagem: 15         - TF-IDF: 3.0031530951781913\n",
      "Palavra: prazo        - Contagem: 216        - TF-IDF: 2.6008291957575413\n",
      "Palavra: estipular    - Contagem: 111        - TF-IDF: 5.9525751777330855\n",
      "Palavra: parabem      - Contagem: 194        - TF-IDF: 4.796867251834483\n",
      "Palavra: loja         - Contagem: 154        - TF-IDF: 3.721285847977631\n",
      "Palavra: lannister    - Contagem: 150        - TF-IDF: 4.492778354620269\n",
      "Palavra: adorar       - Contagem: 6          - TF-IDF: 4.78098549928154\n",
      "Palavra: comprar      - Contagem: 56         - TF-IDF: 2.8643100753345774\n"
     ]
    }
   ],
   "source": [
    "i = 0\n",
    "for k, v in count_vectorizer.vocabulary_.items():\n",
    "    tfidf = vectorizer.idf_[count_vectorizer.vocabulary_[k]]\n",
    "    print(f'Palavra: {k:<12} - Contagem: {v:<10} - TF-IDF: {tfidf}')\n",
    "    i += 1\n",
    "    if i == 10:\n",
    "        break"
   ]
  },
  {
   "cell_type": "code",
   "execution_count": null,
   "metadata": {},
   "outputs": [],
   "source": []
  }
 ],
 "metadata": {
  "kernelspec": {
   "display_name": "Python 3",
   "language": "python",
   "name": "python3"
  },
  "language_info": {
   "codemirror_mode": {
    "name": "ipython",
    "version": 3
   },
   "file_extension": ".py",
   "mimetype": "text/x-python",
   "name": "python",
   "nbconvert_exporter": "python",
   "pygments_lexer": "ipython3",
   "version": "3.7.4"
  }
 },
 "nbformat": 4,
 "nbformat_minor": 4
}