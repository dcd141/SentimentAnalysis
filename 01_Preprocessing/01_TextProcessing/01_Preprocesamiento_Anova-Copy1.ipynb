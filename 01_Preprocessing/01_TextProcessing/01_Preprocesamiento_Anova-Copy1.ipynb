{
 "cells": [
  {
   "cell_type": "code",
   "execution_count": 1,
   "metadata": {},
   "outputs": [],
   "source": [
    "import os"
   ]
  },
  {
   "cell_type": "code",
   "execution_count": 2,
   "metadata": {},
   "outputs": [],
   "source": [
    "import matplotlib.pyplot as plt\n",
    "import pandas as pd\n",
    "import numpy as np\n",
    "import seaborn as sns\n",
    "import glob\n",
    "import sys\n",
    "import pandas as pd\n",
    "#import tensorflow\n",
    "#import keras\n",
    "import wordcloud\n",
    "import nltk\n",
    "import inspect\n",
    "import re\n",
    "import unicodedata\n",
    "\n",
    "#nltk.download('stopwords')\n",
    "\n",
    "from wordcloud import WordCloud\n",
    "from nltk.tokenize import word_tokenize\n",
    "from nltk.tokenize import sent_tokenize\n",
    "\n",
    "from nltk.corpus import stopwords\n",
    "from string import punctuation\n",
    "from nltk.stem import RSLPStemmer #Stemmer for portugese words.\n",
    "\n",
    "from nltk.probability import FreqDist\n",
    "from collections import defaultdict\n",
    "from heapq import nlargest\n",
    "stop = stopwords.words('portuguese')\n",
    "stop.append('nao') #Stopword already have \"Não\", just adding this because it's appear on dataframe"
   ]
  },
  {
   "cell_type": "code",
   "execution_count": 3,
   "metadata": {},
   "outputs": [],
   "source": [
    "# Importing libraries\n",
    "import pandas as pd\n",
    "import numpy as np\n",
    "import seaborn as sns\n",
    "import matplotlib.pyplot as plt\n",
    "%matplotlib inline\n",
    "from matplotlib.gridspec import GridSpec\n",
    "#import missingno as msno\n",
    "import re\n",
    "from collections import Counter\n",
    "import nltk\n",
    "from nltk.corpus import stopwords\n",
    "from nltk.stem import RSLPStemmer\n",
    "import string\n",
    "import sys\n",
    "from sklearn.model_selection import train_test_split\n",
    "from sklearn.feature_extraction.text import CountVectorizer, TfidfVectorizer\n",
    "from sklearn.base import BaseEstimator, TransformerMixin\n",
    "from scipy.sparse import csr_matrix\n",
    "from sklearn.pipeline import Pipeline\n",
    "from sklearn.linear_model import LogisticRegression\n",
    "from sklearn.model_selection import cross_val_score, cross_val_predict\n",
    "from sklearn.metrics import confusion_matrix, accuracy_score, precision_score, recall_score, f1_score\n",
    "import time\n",
    "import sys\n",
    "import math\n",
    "import itertools\n",
    "from sklearn.naive_bayes import GaussianNB\n",
    "from sklearn.svm import SVC\n",
    "#import folium\n",
    "#from folium.plugins import Fullscreen\n",
    "#import geopandas as gpd\n",
    "import json\n",
    "from wordcloud import WordCloud\n",
    "import warnings\n",
    "warnings.filterwarnings('ignore')\n",
    "import pandas as pd\n",
    "import scipy.stats as stats\n",
    "#import researchpy as rp\n",
    "import statsmodels.api as sm\n",
    "from statsmodels.formula.api import ols\n",
    "    \n",
    "import matplotlib.pyplot as pltimport pandas as pd\n",
    "import scipy.stats as stats\n",
    "#import researchpy as rp\n",
    "import statsmodels.api as sm\n",
    "from statsmodels.formula.api import ols\n",
    "    \n",
    "from statsmodels.stats.multicomp import pairwise_tukeyhsd\n",
    "from statsmodels.stats.multicomp import MultiComparison\n",
    "\n",
    "from scipy.stats import shapirofrom scipy.stats import shapiro\n",
    "from sklearn.preprocessing import power_transform\n",
    "from sklearn.preprocessing import PowerTransformer\n",
    "\n",
    "from scipy.stats import boxcox\n",
    "from matplotlib import pyplotfrom scipy.stats import boxcox\n",
    "from matplotlib import pyplot\n",
    "from statsmodels.graphics.gofplots import qqplot\n",
    "from matplotlib import pyplotfrom statsmodels.graphics.gofplots import qqplot\n",
    "\n",
    "#import scipy.stats as ss\n",
    "import statsmodels.api as sa\n",
    "import scikit_posthocs as sp\n",
    "\n",
    "import os"
   ]
  },
  {
   "cell_type": "code",
   "execution_count": 4,
   "metadata": {},
   "outputs": [
    {
     "data": {
      "text/plain": [
       "'C:\\\\Users\\\\d.cadavid141\\\\Documents\\\\Coisas Daniela\\\\201920\\\\201920\\\\00_Bases\\\\brazilian-ecommerce'"
      ]
     },
     "execution_count": 4,
     "metadata": {},
     "output_type": "execute_result"
    }
   ],
   "source": [
    "\n",
    "#os.chdir(\"/Users/danielacadavid/Documents/Universidad/Maestria/201920/00_Bases/brazilian-ecommerce/\")\n",
    "os.chdir(\"C:\\\\Users\\\\d.cadavid141\\\\Documents\\\\Coisas Daniela\\\\201920\\\\201920\\\\00_Bases\\\\brazilian-ecommerce\\\\\")\n",
    "os.getcwd()"
   ]
  },
  {
   "cell_type": "code",
   "execution_count": 5,
   "metadata": {},
   "outputs": [],
   "source": [
    "orders=pd.read_csv('data_tratada_v_nao.csv')"
   ]
  },
  {
   "cell_type": "code",
   "execution_count": 6,
   "metadata": {},
   "outputs": [],
   "source": [
    "orders['word_count'] = orders.review_comment_message.apply(lambda x: len(str(x).split()))"
   ]
  },
  {
   "cell_type": "code",
   "execution_count": 7,
   "metadata": {},
   "outputs": [
    {
     "data": {
      "image/png": "[encoded data removed]",
      "text/plain": [
       "<Figure size 720x360 with 1 Axes>"
      ]
     },
     "metadata": {
      "needs_background": "light"
     },
     "output_type": "display_data"
    }
   ],
   "source": [
    "fig, ax = plt.subplots(figsize=(10, 5))\n",
    "ax=sns.boxplot(x='review_score', y='word_count', data=orders)\n",
    "ax.set_title('Cajas de bigotes de número de palabras', size=14)\n",
    "ax.set_ylabel('Número de palabras')\n",
    "ax.set_xlabel('Calificaciones')\n",
    "\n",
    "plt.tight_layout()\n",
    "\n",
    "plt.show()\n"
   ]
  },
  {
   "cell_type": "markdown",
   "metadata": {},
   "source": [
    "### ANOVA"
   ]
  },
  {
   "cell_type": "code",
   "execution_count": 8,
   "metadata": {},
   "outputs": [
    {
     "data": {
      "text/plain": [
       "F_onewayResult(statistic=1865.0129805595504, pvalue=0.0)"
      ]
     },
     "execution_count": 8,
     "metadata": {},
     "output_type": "execute_result"
    }
   ],
   "source": [
    "stats.f_oneway(orders['word_count'][orders['review_score'] == 1],\n",
    "               orders['word_count'][orders['review_score'] == 2],\n",
    "               orders['word_count'][orders['review_score'] == 3],\n",
    "               orders['word_count'][orders['review_score'] == 4],\n",
    "               orders['word_count'][orders['review_score'] == 5]\n",
    "              )"
   ]
  },
  {
   "cell_type": "code",
   "execution_count": 9,
   "metadata": {},
   "outputs": [
    {
     "data": {
      "text/html": [
       "<table class=\"simpletable\">\n",
       "<caption>OLS Regression Results</caption>\n",
       "<tr>\n",
       "  <th>Dep. Variable:</th>       <td>word_count</td>    <th>  R-squared:         </th>  <td>   0.152</td>  \n",
       "</tr>\n",
       "<tr>\n",
       "  <th>Model:</th>                   <td>OLS</td>       <th>  Adj. R-squared:    </th>  <td>   0.152</td>  \n",
       "</tr>\n",
       "<tr>\n",
       "  <th>Method:</th>             <td>Least Squares</td>  <th>  F-statistic:       </th>  <td>   1865.</td>  \n",
       "</tr>\n",
       "<tr>\n",
       "  <th>Date:</th>             <td>Thu, 30 Apr 2020</td> <th>  Prob (F-statistic):</th>   <td>  0.00</td>   \n",
       "</tr>\n",
       "<tr>\n",
       "  <th>Time:</th>                 <td>21:03:17</td>     <th>  Log-Likelihood:    </th> <td>-1.2741e+05</td>\n",
       "</tr>\n",
       "<tr>\n",
       "  <th>No. Observations:</th>      <td> 41753</td>      <th>  AIC:               </th>  <td>2.548e+05</td> \n",
       "</tr>\n",
       "<tr>\n",
       "  <th>Df Residuals:</th>          <td> 41748</td>      <th>  BIC:               </th>  <td>2.549e+05</td> \n",
       "</tr>\n",
       "<tr>\n",
       "  <th>Df Model:</th>              <td>     4</td>      <th>                     </th>      <td> </td>     \n",
       "</tr>\n",
       "<tr>\n",
       "  <th>Covariance Type:</th>      <td>nonrobust</td>    <th>                     </th>      <td> </td>     \n",
       "</tr>\n",
       "</table>\n",
       "<table class=\"simpletable\">\n",
       "<tr>\n",
       "            <td></td>              <th>coef</th>     <th>std err</th>      <th>t</th>      <th>P>|t|</th>  <th>[0.025</th>    <th>0.975]</th>  \n",
       "</tr>\n",
       "<tr>\n",
       "  <th>Intercept</th>            <td>   10.6725</td> <td>    0.053</td> <td>  199.789</td> <td> 0.000</td> <td>   10.568</td> <td>   10.777</td>\n",
       "</tr>\n",
       "<tr>\n",
       "  <th>C(review_score)[T.2]</th> <td>   -0.3239</td> <td>    0.121</td> <td>   -2.680</td> <td> 0.007</td> <td>   -0.561</td> <td>   -0.087</td>\n",
       "</tr>\n",
       "<tr>\n",
       "  <th>C(review_score)[T.3]</th> <td>   -1.7377</td> <td>    0.100</td> <td>  -17.377</td> <td> 0.000</td> <td>   -1.934</td> <td>   -1.542</td>\n",
       "</tr>\n",
       "<tr>\n",
       "  <th>C(review_score)[T.4]</th> <td>   -3.9682</td> <td>    0.085</td> <td>  -46.783</td> <td> 0.000</td> <td>   -4.134</td> <td>   -3.802</td>\n",
       "</tr>\n",
       "<tr>\n",
       "  <th>C(review_score)[T.5]</th> <td>   -5.0631</td> <td>    0.064</td> <td>  -78.859</td> <td> 0.000</td> <td>   -5.189</td> <td>   -4.937</td>\n",
       "</tr>\n",
       "</table>\n",
       "<table class=\"simpletable\">\n",
       "<tr>\n",
       "  <th>Omnibus:</th>       <td>4221.223</td> <th>  Durbin-Watson:     </th> <td>   2.007</td>\n",
       "</tr>\n",
       "<tr>\n",
       "  <th>Prob(Omnibus):</th>  <td> 0.000</td>  <th>  Jarque-Bera (JB):  </th> <td>5608.303</td>\n",
       "</tr>\n",
       "<tr>\n",
       "  <th>Skew:</th>           <td> 0.874</td>  <th>  Prob(JB):          </th> <td>    0.00</td>\n",
       "</tr>\n",
       "<tr>\n",
       "  <th>Kurtosis:</th>       <td> 3.411</td>  <th>  Cond. No.          </th> <td>    6.58</td>\n",
       "</tr>\n",
       "</table><br/><br/>Warnings:<br/>[1] Standard Errors assume that the covariance matrix of the errors is correctly specified."
      ],
      "text/plain": [
       "<class 'statsmodels.iolib.summary.Summary'>\n",
       "\"\"\"\n",
       "                            OLS Regression Results                            \n",
       "==============================================================================\n",
       "Dep. Variable:             word_count   R-squared:                       0.152\n",
       "Model:                            OLS   Adj. R-squared:                  0.152\n",
       "Method:                 Least Squares   F-statistic:                     1865.\n",
       "Date:                Thu, 30 Apr 2020   Prob (F-statistic):               0.00\n",
       "Time:                        21:03:17   Log-Likelihood:            -1.2741e+05\n",
       "No. Observations:               41753   AIC:                         2.548e+05\n",
       "Df Residuals:                   41748   BIC:                         2.549e+05\n",
       "Df Model:                           4                                         \n",
       "Covariance Type:            nonrobust                                         \n",
       "========================================================================================\n",
       "                           coef    std err          t      P>|t|      [0.025      0.975]\n",
       "----------------------------------------------------------------------------------------\n",
       "Intercept               10.6725      0.053    199.789      0.000      10.568      10.777\n",
       "C(review_score)[T.2]    -0.3239      0.121     -2.680      0.007      -0.561      -0.087\n",
       "C(review_score)[T.3]    -1.7377      0.100    -17.377      0.000      -1.934      -1.542\n",
       "C(review_score)[T.4]    -3.9682      0.085    -46.783      0.000      -4.134      -3.802\n",
       "C(review_score)[T.5]    -5.0631      0.064    -78.859      0.000      -5.189      -4.937\n",
       "==============================================================================\n",
       "Omnibus:                     4221.223   Durbin-Watson:                   2.007\n",
       "Prob(Omnibus):                  0.000   Jarque-Bera (JB):             5608.303\n",
       "Skew:                           0.874   Prob(JB):                         0.00\n",
       "Kurtosis:                       3.411   Cond. No.                         6.58\n",
       "==============================================================================\n",
       "\n",
       "Warnings:\n",
       "[1] Standard Errors assume that the covariance matrix of the errors is correctly specified.\n",
       "\"\"\""
      ]
     },
     "execution_count": 9,
     "metadata": {},
     "output_type": "execute_result"
    }
   ],
   "source": [
    "results = ols('word_count ~ C(review_score)', data=orders).fit()\n",
    "results.summary()"
   ]
  },
  {
   "cell_type": "markdown",
   "metadata": {},
   "source": [
    "## TESTE DE TUKEY"
   ]
  },
  {
   "cell_type": "code",
   "execution_count": 10,
   "metadata": {},
   "outputs": [
    {
     "name": "stdout",
     "output_type": "stream",
     "text": [
      "Multiple Comparison of Means - Tukey HSD, FWER=0.05 \n",
      "====================================================\n",
      "group1 group2 meandiff p-adj   lower   upper  reject\n",
      "----------------------------------------------------\n",
      "     1      2  -0.3239 0.0569 -0.6536  0.0057  False\n",
      "     1      3  -1.7377  0.001 -2.0105 -1.4649   True\n",
      "     1      4  -3.9682  0.001 -4.1996 -3.7368   True\n",
      "     1      5  -5.0631  0.001 -5.2382  -4.888   True\n",
      "     2      3  -1.4138  0.001 -1.7888 -1.0388   True\n",
      "     2      4  -3.6442  0.001 -3.9903 -3.2982   True\n",
      "     2      5  -4.7392  0.001 -5.0504 -4.4279   True\n",
      "     3      4  -2.2304  0.001 -2.5228 -1.9381   True\n",
      "     3      5  -3.3254  0.001 -3.5756 -3.0751   True\n",
      "     4      5  -1.0949  0.001 -1.2992 -0.8906   True\n",
      "----------------------------------------------------\n"
     ]
    }
   ],
   "source": [
    "mc = MultiComparison(orders['word_count'], orders['review_score'])\n",
    "mc_results = mc.tukeyhsd()\n",
    "print(mc_results)"
   ]
  },
  {
   "cell_type": "code",
   "execution_count": 11,
   "metadata": {},
   "outputs": [
    {
     "name": "stdout",
     "output_type": "stream",
     "text": [
      "MultiComparison.kruskal\n",
      "0 1 617.4361731879544 306.08414306770277 2.0172105846443134 False\n",
      "0.04367354196109861\n",
      "0.04367354196109861\n"
     ]
    }
   ],
   "source": [
    "mc_krus = mc.kruskal()\n",
    "print(mc_krus)"
   ]
  },
  {
   "cell_type": "markdown",
   "metadata": {},
   "source": [
    "## TESTE SHAPIRO WILK PARA NORMALIDAD"
   ]
  },
  {
   "cell_type": "code",
   "execution_count": 12,
   "metadata": {},
   "outputs": [],
   "source": [
    "\n",
    "data=orders['word_count']\n",
    "# normality test\n",
    "stat, p = shapiro(data)"
   ]
  },
  {
   "cell_type": "code",
   "execution_count": 13,
   "metadata": {},
   "outputs": [
    {
     "name": "stdout",
     "output_type": "stream",
     "text": [
      "Sample does not look Gaussian (reject H0)\n"
     ]
    }
   ],
   "source": [
    "# interpret\n",
    "alpha = 0.05\n",
    "if p > alpha:\n",
    "    print('Sample looks Gaussian (fail to reject H0)')\n",
    "else:\n",
    "    print('Sample does not look Gaussian (reject H0)')"
   ]
  },
  {
   "cell_type": "markdown",
   "metadata": {},
   "source": [
    "## Transformación Box-Cox para normalidad"
   ]
  },
  {
   "cell_type": "code",
   "execution_count": 15,
   "metadata": {},
   "outputs": [],
   "source": [
    "uno=orders['word_count'][orders['review_score'] == 1]\n",
    "dos=orders['word_count'][orders['review_score'] == 2]\n",
    "tres= orders['word_count'][orders['review_score'] == 3]\n",
    "cuatro=orders['word_count'][orders['review_score'] == 4]\n",
    "cinco= orders['word_count'][orders['review_score'] == 5]\n"
   ]
  },
  {
   "cell_type": "code",
   "execution_count": 16,
   "metadata": {},
   "outputs": [],
   "source": [
    "#order_reviews = order_reviews.dropna(subset=['review_comment_message'])\n",
    "test=pd.DataFrame([orders['word_count'], orders['review_score']])\n",
    "orders_array=np.array([orders['word_count'], orders['review_score']],np.int32)\n",
    "orders_array = orders_array[~np.isnan(orders_array)]\n",
    "#orders_array=orders_array.dropna"
   ]
  },
  {
   "cell_type": "code",
   "execution_count": 17,
   "metadata": {},
   "outputs": [
    {
     "data": {
      "text/plain": [
       "(41753, 1)"
      ]
     },
     "execution_count": 17,
     "metadata": {},
     "output_type": "execute_result"
    }
   ],
   "source": [
    "test_a=np.array(data)\n",
    "test_b=np.array([orders['word_count'], orders['review_score']])\n",
    "#test_a = test_a[~np.isnan(test_a)]\n",
    "test_a=test_a.reshape(-1,1)\n",
    "#test_b=data.reshape(-1,2)\n",
    "test_a.shape\n"
   ]
  },
  {
   "cell_type": "code",
   "execution_count": 18,
   "metadata": {},
   "outputs": [
    {
     "data": {
      "text/plain": [
       "array([[ 5],\n",
       "       [12],\n",
       "       [15],\n",
       "       ...,\n",
       "       [ 8],\n",
       "       [21],\n",
       "       [ 9]], dtype=int64)"
      ]
     },
     "execution_count": 18,
     "metadata": {},
     "output_type": "execute_result"
    }
   ],
   "source": [
    "test_a"
   ]
  },
  {
   "cell_type": "code",
   "execution_count": 20,
   "metadata": {},
   "outputs": [],
   "source": [
    "trans=power_transform(test_a, method='box-cox')\n",
    "#trans"
   ]
  },
  {
   "cell_type": "code",
   "execution_count": 21,
   "metadata": {},
   "outputs": [],
   "source": [
    "a=PowerTransformer(method='box-cox').fit_transform(test_a)"
   ]
  },
  {
   "cell_type": "code",
   "execution_count": 108,
   "metadata": {},
   "outputs": [
    {
     "name": "stdout",
     "output_type": "stream",
     "text": [
      "Sample does not look Gaussian (reject H0)\n"
     ]
    }
   ],
   "source": [
    "# normality test\n",
    "stat_2, p_2 = shapiro(trans2)\n",
    "\n",
    "# interpret\n",
    "alpha = 0.05\n",
    "if p_2 > alpha:\n",
    "    print('Sample looks Gaussian (fail to reject H0)')\n",
    "else:\n",
    "    print('Sample does not look Gaussian (reject H0)')"
   ]
  },
  {
   "cell_type": "code",
   "execution_count": 166,
   "metadata": {},
   "outputs": [
    {
     "data": {
      "image/png": "[encoded data removed]",
      "text/plain": [
       "<Figure size 432x288 with 1 Axes>"
      ]
     },
     "metadata": {
      "needs_background": "light"
     },
     "output_type": "display_data"
    }
   ],
   "source": [
    "\n",
    "# power transform\n",
    "trans2 = boxcox(data, 0)\n",
    "# histogram\n",
    "pyplot.hist(trans2)\n",
    "pyplot.show()"
   ]
  },
  {
   "cell_type": "code",
   "execution_count": 233,
   "metadata": {},
   "outputs": [
    {
     "data": {
      "image/png": "[encoded data removed]",
      "text/plain": [
       "<Figure size 576x288 with 1 Axes>"
      ]
     },
     "metadata": {
      "needs_background": "light"
     },
     "output_type": "display_data"
    }
   ],
   "source": [
    "fig, ax = plt.subplots(figsize=(8, 4))\n",
    "ax.hist(data, bins='auto', density=True)\n",
    "ax.set_xlabel('Number of words')\n",
    "ax.set_ylabel('Probability')\n",
    "ax.set_title('Non-normal Distribution of Number of Words');"
   ]
  },
  {
   "cell_type": "code",
   "execution_count": 243,
   "metadata": {},
   "outputs": [
    {
     "name": "stdout",
     "output_type": "stream",
     "text": [
      "Best lambda parameter = 0.212\n"
     ]
    },
    {
     "data": {
      "image/png": "[encoded data removed]",
      "text/plain": [
       "<Figure size 576x288 with 1 Axes>"
      ]
     },
     "metadata": {
      "needs_background": "light"
     },
     "output_type": "display_data"
    }
   ],
   "source": [
    "time_duration_trans, lmbda = stats.boxcox(data)\n",
    "print('Best lambda parameter = %s' % round(lmbda, 3))\n",
    "\n",
    "fig, ax = plt.subplots(figsize=(8, 4))\n",
    "prob = stats.boxcox_normplot(uno, -25, 25, plot=ax)\n",
    "ax.axvline(lmbda, color='r');"
   ]
  },
  {
   "cell_type": "code",
   "execution_count": 235,
   "metadata": {},
   "outputs": [],
   "source": [
    "# fit Gaussian distribution\n",
    "\n",
    "time_duration_trans.sort()\n",
    "mean, std = stats.norm.fit(time_duration_trans, loc=1)\n",
    "pdf_norm = stats.norm.pdf(time_duration_trans, mean, std)"
   ]
  },
  {
   "cell_type": "code",
   "execution_count": 236,
   "metadata": {},
   "outputs": [
    {
     "data": {
      "image/png": "[encoded data removed]",
      "text/plain": [
       "<Figure size 576x288 with 1 Axes>"
      ]
     },
     "metadata": {
      "needs_background": "light"
     },
     "output_type": "display_data"
    }
   ],
   "source": [
    "# visual inspection\n",
    "\n",
    "fig, ax = plt.subplots(figsize=(8, 4))\n",
    "ax.hist(time_duration_trans, bins='auto', density=True)\n",
    "ax.plot(time_duration_trans, pdf_norm, label='Fitted normal distribution')\n",
    "ax.set_xlabel('Number of words')\n",
    "ax.set_ylabel('Transformed Probability')\n",
    "ax.set_title('Box-Cox Transformed Distribution of Number of Words')\n",
    "ax.legend();"
   ]
  },
  {
   "cell_type": "code",
   "execution_count": 238,
   "metadata": {},
   "outputs": [
    {
     "data": {
      "image/png": "[encoded data removed]",
      "text/plain": [
       "<Figure size 576x288 with 2 Axes>"
      ]
     },
     "metadata": {
      "needs_background": "light"
     },
     "output_type": "display_data"
    }
   ],
   "source": [
    "fig, (ax1, ax2) = plt.subplots(1, 2, figsize=(8, 4))\n",
    "\n",
    "prob = stats.probplot(data, dist=stats.norm, plot=ax1)\n",
    "prob = stats.probplot(time_duration_trans, dist=stats.norm, plot=ax2)\n",
    "\n",
    "ax1.set_title('Original Data')\n",
    "ax1.set_ylabel('Number of words')\n",
    "ax2.set_title('Transforamed Data, λ = %s' % 0.212);\n",
    "ax2.set_ylabel('');"
   ]
  },
  {
   "cell_type": "code",
   "execution_count": 239,
   "metadata": {},
   "outputs": [
    {
     "data": {
      "image/png": "[encoded data removed]",
      "text/plain": [
       "<Figure size 432x288 with 1 Axes>"
      ]
     },
     "metadata": {
      "needs_background": "light"
     },
     "output_type": "display_data"
    }
   ],
   "source": [
    "# QQ Plot\n",
    "\n",
    "qqplot(data, line='s')\n",
    "pyplot.show()"
   ]
  },
  {
   "cell_type": "markdown",
   "metadata": {},
   "source": [
    "## Barlett"
   ]
  },
  {
   "cell_type": "code",
   "execution_count": 57,
   "metadata": {},
   "outputs": [
    {
     "data": {
      "text/plain": [
       "BartlettResult(statistic=51571.96977675552, pvalue=0.0)"
      ]
     },
     "execution_count": 57,
     "metadata": {},
     "output_type": "execute_result"
    }
   ],
   "source": [
    "stats.bartlett(orders['word_count'], orders['review_score'])"
   ]
  },
  {
   "cell_type": "markdown",
   "metadata": {},
   "source": [
    "## Levene con mediana"
   ]
  },
  {
   "cell_type": "code",
   "execution_count": 58,
   "metadata": {},
   "outputs": [
    {
     "data": {
      "text/plain": [
       "LeveneResult(statistic=21592.09746698573, pvalue=0.0)"
      ]
     },
     "execution_count": 58,
     "metadata": {},
     "output_type": "execute_result"
    }
   ],
   "source": [
    "stats.levene(orders['word_count'], orders['review_score'],center = 'median')"
   ]
  },
  {
   "cell_type": "code",
   "execution_count": 230,
   "metadata": {},
   "outputs": [
    {
     "data": {
      "text/plain": [
       "LeveneResult(statistic=160.9929761566281, pvalue=7.807649511726149e-37)"
      ]
     },
     "execution_count": 230,
     "metadata": {},
     "output_type": "execute_result"
    }
   ],
   "source": [
    "stats.levene(time_duration_trans, orders['review_score'],center = 'median')"
   ]
  },
  {
   "cell_type": "code",
   "execution_count": 202,
   "metadata": {},
   "outputs": [
    {
     "name": "stdout",
     "output_type": "stream",
     "text": [
      "Multiple Comparison of Means - Tukey HSD, FWER=0.05 \n",
      "====================================================\n",
      "group1 group2 meandiff p-adj   lower   upper  reject\n",
      "----------------------------------------------------\n",
      "     1      2  -0.3239 0.0569 -0.6536  0.0057  False\n",
      "     1      3  -1.7377  0.001 -2.0105 -1.4649   True\n",
      "     1      4  -3.9682  0.001 -4.1996 -3.7368   True\n",
      "     1      5  -5.0631  0.001 -5.2382  -4.888   True\n",
      "     2      3  -1.4138  0.001 -1.7888 -1.0388   True\n",
      "     2      4  -3.6442  0.001 -3.9903 -3.2982   True\n",
      "     2      5  -4.7392  0.001 -5.0504 -4.4279   True\n",
      "     3      4  -2.2304  0.001 -2.5228 -1.9381   True\n",
      "     3      5  -3.3254  0.001 -3.5756 -3.0751   True\n",
      "     4      5  -1.0949  0.001 -1.2992 -0.8906   True\n",
      "----------------------------------------------------\n"
     ]
    }
   ],
   "source": [
    "mc = MultiComparison(orders['word_count'], orders['review_score'])\n",
    "mc_results = mc.tukeyhsd()\n",
    "print(mc_results)"
   ]
  },
  {
   "cell_type": "markdown",
   "metadata": {},
   "source": [
    "## Kruskal Wallis"
   ]
  },
  {
   "cell_type": "code",
   "execution_count": 62,
   "metadata": {},
   "outputs": [
    {
     "data": {
      "text/plain": [
       "KruskalResult(statistic=10925.465210896493, pvalue=0.0)"
      ]
     },
     "execution_count": 62,
     "metadata": {},
     "output_type": "execute_result"
    }
   ],
   "source": [
    "stats.kruskal(orders['word_count'], orders['review_score'])"
   ]
  },
  {
   "cell_type": "markdown",
   "metadata": {},
   "source": [
    "## Non parametric Anova with posthocs"
   ]
  },
  {
   "cell_type": "code",
   "execution_count": 226,
   "metadata": {},
   "outputs": [
    {
     "data": {
      "text/html": [
       "<div>\n",
       "<style scoped>\n",
       "    .dataframe tbody tr th:only-of-type {\n",
       "        vertical-align: middle;\n",
       "    }\n",
       "\n",
       "    .dataframe tbody tr th {\n",
       "        vertical-align: top;\n",
       "    }\n",
       "\n",
       "    .dataframe thead th {\n",
       "        text-align: right;\n",
       "    }\n",
       "</style>\n",
       "<table border=\"1\" class=\"dataframe\">\n",
       "  <thead>\n",
       "    <tr style=\"text-align: right;\">\n",
       "      <th></th>\n",
       "      <th>0</th>\n",
       "      <th>1</th>\n",
       "      <th>2</th>\n",
       "      <th>3</th>\n",
       "      <th>4</th>\n",
       "      <th>5</th>\n",
       "      <th>6</th>\n",
       "      <th>7</th>\n",
       "      <th>8</th>\n",
       "      <th>9</th>\n",
       "      <th>...</th>\n",
       "      <th>41743</th>\n",
       "      <th>41744</th>\n",
       "      <th>41745</th>\n",
       "      <th>41746</th>\n",
       "      <th>41747</th>\n",
       "      <th>41748</th>\n",
       "      <th>41749</th>\n",
       "      <th>41750</th>\n",
       "      <th>41751</th>\n",
       "      <th>41752</th>\n",
       "    </tr>\n",
       "  </thead>\n",
       "  <tbody>\n",
       "    <tr>\n",
       "      <td>word_count</td>\n",
       "      <td>5</td>\n",
       "      <td>12</td>\n",
       "      <td>15</td>\n",
       "      <td>5</td>\n",
       "      <td>7</td>\n",
       "      <td>7</td>\n",
       "      <td>1</td>\n",
       "      <td>2</td>\n",
       "      <td>4</td>\n",
       "      <td>14</td>\n",
       "      <td>...</td>\n",
       "      <td>8</td>\n",
       "      <td>8</td>\n",
       "      <td>7</td>\n",
       "      <td>17</td>\n",
       "      <td>5</td>\n",
       "      <td>8</td>\n",
       "      <td>16</td>\n",
       "      <td>8</td>\n",
       "      <td>21</td>\n",
       "      <td>9</td>\n",
       "    </tr>\n",
       "    <tr>\n",
       "      <td>review_score</td>\n",
       "      <td>5</td>\n",
       "      <td>5</td>\n",
       "      <td>4</td>\n",
       "      <td>4</td>\n",
       "      <td>5</td>\n",
       "      <td>2</td>\n",
       "      <td>1</td>\n",
       "      <td>5</td>\n",
       "      <td>5</td>\n",
       "      <td>5</td>\n",
       "      <td>...</td>\n",
       "      <td>3</td>\n",
       "      <td>2</td>\n",
       "      <td>5</td>\n",
       "      <td>2</td>\n",
       "      <td>4</td>\n",
       "      <td>5</td>\n",
       "      <td>3</td>\n",
       "      <td>5</td>\n",
       "      <td>1</td>\n",
       "      <td>1</td>\n",
       "    </tr>\n",
       "  </tbody>\n",
       "</table>\n",
       "<p>2 rows × 41753 columns</p>\n",
       "</div>"
      ],
      "text/plain": [
       "              0      1      2      3      4      5      6      7      8      \\\n",
       "word_count        5     12     15      5      7      7      1      2      4   \n",
       "review_score      5      5      4      4      5      2      1      5      5   \n",
       "\n",
       "              9      ...  41743  41744  41745  41746  41747  41748  41749  \\\n",
       "word_count       14  ...      8      8      7     17      5      8     16   \n",
       "review_score      5  ...      3      2      5      2      4      5      3   \n",
       "\n",
       "              41750  41751  41752  \n",
       "word_count        8     21      9  \n",
       "review_score      5      1      1  \n",
       "\n",
       "[2 rows x 41753 columns]"
      ]
     },
     "execution_count": 226,
     "metadata": {},
     "output_type": "execute_result"
    }
   ],
   "source": [
    "test.head()"
   ]
  },
  {
   "cell_type": "code",
   "execution_count": 229,
   "metadata": {},
   "outputs": [
    {
     "data": {
      "text/html": [
       "<div>\n",
       "<style scoped>\n",
       "    .dataframe tbody tr th:only-of-type {\n",
       "        vertical-align: middle;\n",
       "    }\n",
       "\n",
       "    .dataframe tbody tr th {\n",
       "        vertical-align: top;\n",
       "    }\n",
       "\n",
       "    .dataframe thead th {\n",
       "        text-align: right;\n",
       "    }\n",
       "</style>\n",
       "<table border=\"1\" class=\"dataframe\">\n",
       "  <thead>\n",
       "    <tr style=\"text-align: right;\">\n",
       "      <th></th>\n",
       "      <th>1</th>\n",
       "      <th>2</th>\n",
       "      <th>3</th>\n",
       "      <th>4</th>\n",
       "      <th>5</th>\n",
       "    </tr>\n",
       "  </thead>\n",
       "  <tbody>\n",
       "    <tr>\n",
       "      <td>1</td>\n",
       "      <td>-1.000000e+00</td>\n",
       "      <td>2.960141e-02</td>\n",
       "      <td>2.862266e-51</td>\n",
       "      <td>0.000000e+00</td>\n",
       "      <td>0.000000e+00</td>\n",
       "    </tr>\n",
       "    <tr>\n",
       "      <td>2</td>\n",
       "      <td>2.960141e-02</td>\n",
       "      <td>-1.000000e+00</td>\n",
       "      <td>1.629521e-19</td>\n",
       "      <td>4.719287e-152</td>\n",
       "      <td>2.280723e-294</td>\n",
       "    </tr>\n",
       "    <tr>\n",
       "      <td>3</td>\n",
       "      <td>2.862266e-51</td>\n",
       "      <td>1.629521e-19</td>\n",
       "      <td>-1.000000e+00</td>\n",
       "      <td>7.883985e-84</td>\n",
       "      <td>3.216048e-224</td>\n",
       "    </tr>\n",
       "    <tr>\n",
       "      <td>4</td>\n",
       "      <td>0.000000e+00</td>\n",
       "      <td>4.719287e-152</td>\n",
       "      <td>7.883985e-84</td>\n",
       "      <td>-1.000000e+00</td>\n",
       "      <td>2.258303e-29</td>\n",
       "    </tr>\n",
       "    <tr>\n",
       "      <td>5</td>\n",
       "      <td>0.000000e+00</td>\n",
       "      <td>2.280723e-294</td>\n",
       "      <td>3.216048e-224</td>\n",
       "      <td>2.258303e-29</td>\n",
       "      <td>-1.000000e+00</td>\n",
       "    </tr>\n",
       "  </tbody>\n",
       "</table>\n",
       "</div>"
      ],
      "text/plain": [
       "              1              2              3              4              5\n",
       "1 -1.000000e+00   2.960141e-02   2.862266e-51   0.000000e+00   0.000000e+00\n",
       "2  2.960141e-02  -1.000000e+00   1.629521e-19  4.719287e-152  2.280723e-294\n",
       "3  2.862266e-51   1.629521e-19  -1.000000e+00   7.883985e-84  3.216048e-224\n",
       "4  0.000000e+00  4.719287e-152   7.883985e-84  -1.000000e+00   2.258303e-29\n",
       "5  0.000000e+00  2.280723e-294  3.216048e-224   2.258303e-29  -1.000000e+00"
      ]
     },
     "execution_count": 229,
     "metadata": {},
     "output_type": "execute_result"
    }
   ],
   "source": [
    "x = np.array([[uno],[dos],[tres],[cuatro],[cinco]])\n",
    "sp.posthoc_dunn(orders,val_col='word_count', group_col='review_score', p_adjust = 'holm')"
   ]
  },
  {
   "cell_type": "code",
   "execution_count": 215,
   "metadata": {},
   "outputs": [
    {
     "name": "stdout",
     "output_type": "stream",
     "text": [
      "1,2 KruskalResult(statistic=5.200326334718878, pvalue=0.022582648184474603)\n",
      "1,3 KruskalResult(statistic=227.33478566826352, pvalue=2.272981108960781e-51)\n",
      "1,4 KruskalResult(statistic=1733.0526767379592, pvalue=0.0)\n",
      "1,5 KruskalResult(statistic=4856.059989317402, pvalue=0.0)\n",
      "2,3 KruskalResult(statistic=81.13752158285726, pvalue=2.1054423842580973e-19)\n",
      "2,4 KruskalResult(statistic=668.1055552318609, pvalue=2.579834895825972e-147)\n",
      "2,5 KruskalResult(statistic=1369.593265281722, pvalue=8.509988105590344e-300)\n",
      "3,4 KruskalResult(statistic=363.83783406557956, pvalue=4.1107281375631917e-81)\n",
      "3,5 KruskalResult(statistic=116.02941227589162, pvalue=4.682995231318232e-27)\n",
      "4,5 KruskalResult(statistic=116.02941227589162, pvalue=4.682995231318232e-27)\n"
     ]
    }
   ],
   "source": [
    "print('1,2',stats.kruskal(uno, dos))\n",
    "print('1,3',stats.kruskal(uno, tres))\n",
    "print('1,4',stats.kruskal(uno, cuatro))\n",
    "print('1,5',stats.kruskal(uno, cinco))\n",
    "print('2,3',stats.kruskal(dos, tres))\n",
    "print('2,4',stats.kruskal(dos, cuatro))\n",
    "print('2,5',stats.kruskal(dos, cinco))\n",
    "print('3,4',stats.kruskal(tres, cuatro))\n",
    "print('3,5',stats.kruskal(cuatro, cinco))\n",
    "print('4,5',stats.kruskal(cuatro, cinco))"
   ]
  },
  {
   "cell_type": "code",
   "execution_count": null,
   "metadata": {},
   "outputs": [],
   "source": []
  }
 ],
 "metadata": {
  "kernelspec": {
   "display_name": "Python 3",
   "language": "python",
   "name": "python3"
  },
  "language_info": {
   "codemirror_mode": {
    "name": "ipython",
    "version": 3
   },
   "file_extension": ".py",
   "mimetype": "text/x-python",
   "name": "python",
   "nbconvert_exporter": "python",
   "pygments_lexer": "ipython3",
   "version": "3.7.4"
  }
 },
 "nbformat": 4,
 "nbformat_minor": 4
}