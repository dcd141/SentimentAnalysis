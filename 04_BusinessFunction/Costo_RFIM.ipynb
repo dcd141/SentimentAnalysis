{
 "cells": [
  {
   "cell_type": "markdown",
   "metadata": {},
   "source": [
    "# Soft Business function"
   ]
  },
  {
   "cell_type": "code",
   "execution_count": 1,
   "metadata": {},
   "outputs": [],
   "source": [
    "import os\n",
    "import matplotlib.pyplot as plt\n",
    "import pickle\n",
    "import pandas as pd\n",
    "import numpy as np\n",
    "import seaborn as sns\n",
    "import glob\n",
    "import sys\n",
    "import pandas as pd\n",
    "#import tensorflow\n",
    "#import keras\n",
    "import wordcloud\n",
    "import nltk\n",
    "import inspect\n",
    "import re\n",
    "import unicodedata\n",
    "\n",
    "from wordcloud import WordCloud\n",
    "from nltk.tokenize import word_tokenize\n",
    "from nltk.tokenize import sent_tokenize\n",
    "\n",
    "from nltk.corpus import stopwords\n",
    "from string import punctuation\n",
    "from nltk.stem import RSLPStemmer #Stemmer for portugese words.\n",
    "\n",
    "from nltk.probability import FreqDist\n",
    "from collections import defaultdict\n",
    "from heapq import nlargest"
   ]
  },
  {
   "cell_type": "code",
   "execution_count": 2,
   "metadata": {},
   "outputs": [],
   "source": [
    "# Importing libraries\n",
    "import pandas as pd\n",
    "import numpy as np\n",
    "import seaborn as sns\n",
    "import matplotlib.pyplot as plt\n",
    "%matplotlib inline\n",
    "from matplotlib.gridspec import GridSpec\n",
    "#import missingno as msno\n",
    "import re\n",
    "from collections import Counter\n",
    "import nltk\n",
    "from nltk.corpus import stopwords\n",
    "from nltk.stem import RSLPStemmer\n",
    "import string\n",
    "import sys\n",
    "from sklearn.model_selection import train_test_split\n",
    "from sklearn.feature_extraction.text import CountVectorizer, TfidfVectorizer\n",
    "from sklearn.base import BaseEstimator, TransformerMixin\n",
    "from scipy.sparse import csr_matrix\n",
    "from sklearn.pipeline import Pipeline\n",
    "from sklearn.linear_model import LogisticRegression\n",
    "from sklearn.model_selection import cross_val_score, cross_val_predict\n",
    "from sklearn.metrics import confusion_matrix, accuracy_score, precision_score, recall_score, f1_score\n",
    "from sklearn.model_selection import cross_val_score, cross_val_predict\n",
    "from sklearn.metrics import confusion_matrix, accuracy_score, precision_score, recall_score, f1_score,roc_auc_score,roc_curve\n",
    "from sklearn.decomposition import PCA\n",
    "\n",
    "from sklearn.preprocessing import StandardScaler\n",
    "from sklearn.ensemble import RandomForestClassifier\n",
    "from sklearn.datasets import make_classification\n",
    "from sklearn.ensemble import GradientBoostingClassifier\n",
    "from sklearn.linear_model import LogisticRegression\n",
    "\n",
    "import time\n",
    "import sys\n",
    "import math\n",
    "import itertools\n",
    "from sklearn.naive_bayes import GaussianNB\n",
    "from sklearn.svm import SVC\n",
    "#import folium\n",
    "#from folium.plugins import Fullscreen\n",
    "#import geopandas as gpd\n",
    "import json\n",
    "from wordcloud import WordCloud\n",
    "import warnings\n",
    "warnings.filterwarnings('ignore')"
   ]
  },
  {
   "cell_type": "code",
   "execution_count": 3,
   "metadata": {},
   "outputs": [
    {
     "data": {
      "text/plain": [
       "'C:\\\\Users\\\\d.cadavid141\\\\Documents\\\\Coisas Daniela\\\\201920\\\\201920\\\\00_Bases\\\\brazilian-ecommerce'"
      ]
     },
     "execution_count": 3,
     "metadata": {},
     "output_type": "execute_result"
    }
   ],
   "source": [
    "#os.chdir(\"/Users/danielacadavid/Documents/Universidad/Maestria/201920/00_Bases/brazilian-ecommerce/\")\n",
    "os.chdir(\"C:\\\\Users\\\\d.cadavid141\\\\Documents\\\\Coisas Daniela\\\\201920\\\\201920\\\\00_Bases\\\\brazilian-ecommerce\\\\\")\n",
    "os.getcwd()"
   ]
  },
  {
   "cell_type": "code",
   "execution_count": 4,
   "metadata": {},
   "outputs": [
    {
     "name": "stdout",
     "output_type": "stream",
     "text": [
      "(41753, 8)\n",
      "(99441, 5)\n",
      "(99441, 8)\n",
      "(112650, 7)\n",
      "['Unnamed: 0', 'review_id', 'order_id', 'review_score', 'review_comment_title', 'review_comment_message', 'review_creation_date', 'review_answer_timestamp']\n",
      "['customer_id', 'customer_unique_id', 'customer_zip_code_prefix', 'customer_city', 'customer_state']\n",
      "['order_id', 'customer_id', 'order_status', 'order_purchase_timestamp', 'order_approved_at', 'order_delivered_carrier_date', 'order_delivered_customer_date', 'order_estimated_delivery_date']\n",
      "['order_id', 'order_item_id', 'product_id', 'seller_id', 'shipping_limit_date', 'price', 'freight_value']\n"
     ]
    }
   ],
   "source": [
    "order_items=pd.read_csv('olist_order_items_dataset.csv')\n",
    "customers=pd.read_csv('olist_customers_dataset.csv')\n",
    "ordenes = pd.read_csv('olist_orders_dataset.csv')\n",
    "orders=pd.read_csv('data_tratada_v_nao.csv')\n",
    "print(orders.shape)\n",
    "print(customers.shape)\n",
    "print(ordenes.shape)\n",
    "print(order_items.shape)\n",
    "print(list(orders.columns))\n",
    "print(list(customers.columns))\n",
    "print(list(ordenes.columns))\n",
    "print(list(order_items.columns))"
   ]
  },
  {
   "cell_type": "code",
   "execution_count": 5,
   "metadata": {},
   "outputs": [
    {
     "data": {
      "text/plain": [
       "['review_id', 'review_score', 'order_id', 'review_comment_message']"
      ]
     },
     "execution_count": 5,
     "metadata": {},
     "output_type": "execute_result"
    }
   ],
   "source": [
    "cols_orders = ['review_id','review_score','order_id','review_comment_message']\n",
    "orders = orders[cols_orders]\n",
    "list(orders.columns)"
   ]
  },
  {
   "cell_type": "code",
   "execution_count": 6,
   "metadata": {},
   "outputs": [
    {
     "data": {
      "text/plain": [
       "['order_id', 'price', 'freight_value']"
      ]
     },
     "execution_count": 6,
     "metadata": {},
     "output_type": "execute_result"
    }
   ],
   "source": [
    "cols_ordenes_it = ['order_id','price','freight_value']\n",
    "order_items = order_items[cols_ordenes_it]\n",
    "list(order_items.columns)"
   ]
  },
  {
   "cell_type": "code",
   "execution_count": 7,
   "metadata": {},
   "outputs": [
    {
     "data": {
      "text/plain": [
       "['order_id', 'customer_id']"
      ]
     },
     "execution_count": 7,
     "metadata": {},
     "output_type": "execute_result"
    }
   ],
   "source": [
    "cols_ordenes = ['order_id','customer_id']\n",
    "ordenes = ordenes[cols_ordenes]\n",
    "list(ordenes.columns)"
   ]
  },
  {
   "cell_type": "code",
   "execution_count": 8,
   "metadata": {},
   "outputs": [
    {
     "data": {
      "text/plain": [
       "['customer_id', 'customer_unique_id']"
      ]
     },
     "execution_count": 8,
     "metadata": {},
     "output_type": "execute_result"
    }
   ],
   "source": [
    "cols_cust = ['customer_id','customer_unique_id']\n",
    "customers = customers[cols_cust]\n",
    "list(customers.columns)"
   ]
  },
  {
   "cell_type": "code",
   "execution_count": 9,
   "metadata": {},
   "outputs": [
    {
     "name": "stdout",
     "output_type": "stream",
     "text": [
      "(41753, 6)\n"
     ]
    }
   ],
   "source": [
    "# Joining order and items datasets\n",
    "orders_items_1 = orders.merge(order_items, on='order_id', how='left')\n",
    "orders_items   = orders_items_1.drop_duplicates(keep='last',subset=['order_id','review_id'])\n",
    "#valor_orden = orders_items['order_id','review_comment_message','price','freight_value']\n",
    "print(orders_items.shape)"
   ]
  },
  {
   "cell_type": "code",
   "execution_count": 10,
   "metadata": {},
   "outputs": [
    {
     "name": "stdout",
     "output_type": "stream",
     "text": [
      "(41753, 7)\n"
     ]
    }
   ],
   "source": [
    "# Joining order and items datasets\n",
    "orders_items_cust_1 = orders_items.merge(ordenes, on='order_id', how='left')\n",
    "orders_items_cust   = orders_items_cust_1.drop_duplicates(keep='last',subset=['order_id','review_id'])\n",
    "#valor_orden = orders_items['order_id','review_comment_message','price','freight_value']\n",
    "print(orders_items_cust.shape)"
   ]
  },
  {
   "cell_type": "code",
   "execution_count": 11,
   "metadata": {},
   "outputs": [
    {
     "name": "stdout",
     "output_type": "stream",
     "text": [
      "(41753, 8)\n"
     ]
    }
   ],
   "source": [
    "# Joining order and items datasets\n",
    "orders_items_cust_1     = orders_items_cust.merge(customers, on='customer_id', how='left')\n",
    "orders_items_customer   = orders_items_cust_1.drop_duplicates(keep='last',subset=['order_id','review_id','customer_unique_id'])\n",
    "print(orders_items_customer.shape)"
   ]
  },
  {
   "cell_type": "code",
   "execution_count": 12,
   "metadata": {},
   "outputs": [],
   "source": [
    "vezes=orders_items_customer['customer_unique_id'].value_counts().rename_axis('customer_unique_id').reset_index(name='counts')\n",
    "#vezes"
   ]
  },
  {
   "cell_type": "code",
   "execution_count": 13,
   "metadata": {},
   "outputs": [
    {
     "name": "stdout",
     "output_type": "stream",
     "text": [
      "(41753, 9)\n"
     ]
    }
   ],
   "source": [
    "# Times a client buys\n",
    "orders_items_cust_1     = orders_items_customer.merge(vezes, on='customer_unique_id', how='left')\n",
    "orders_items_customer   = orders_items_cust_1.drop_duplicates(keep='last',subset=['order_id','review_id','customer_unique_id'])\n",
    "print(orders_items_customer.shape)"
   ]
  },
  {
   "cell_type": "code",
   "execution_count": 14,
   "metadata": {},
   "outputs": [],
   "source": [
    "####### ACA SE CREA EL BOW\n",
    "from sklearn.feature_extraction.text import TfidfVectorizer\n",
    "vectorizer = TfidfVectorizer()\n",
    "X_tfidf = vectorizer.fit_transform(orders_items_customer.review_comment_message).toarray()\n",
    "X = pd.DataFrame(X_tfidf, columns = list(vectorizer.get_feature_names()))"
   ]
  },
  {
   "cell_type": "code",
   "execution_count": 15,
   "metadata": {},
   "outputs": [],
   "source": [
    "# Creating the class label\n",
    "bin_edges = [0, 2, 5]\n",
    "bin_names = ['0', '1']\n",
    "orders_items_customer['class'] = pd.cut(orders_items_customer['review_score'] , bins=bin_edges, labels=bin_names)\n",
    "#orders = orders.iloc[:, np.r_[0, 1, 3, 4, 2, 5,6]\n",
    "y = orders_items_customer['class'].values\n",
    "Y_tf = y.astype(int)\n",
    "#Y_tf"
   ]
  },
  {
   "cell_type": "code",
   "execution_count": 16,
   "metadata": {},
   "outputs": [],
   "source": [
    "## Variables\n",
    "list_vars=pd.read_csv('feature_imp_100vars.csv')\n",
    "vars_gb = list_vars[list_vars.columns[0]][:139]\n",
    "vars_rf = list_vars[list_vars.columns[0]][:11]\n",
    "vars_lr = list_vars[list_vars.columns[0]][:652]"
   ]
  },
  {
   "cell_type": "code",
   "execution_count": 17,
   "metadata": {},
   "outputs": [],
   "source": [
    "#df1 = df[[vars_usar]]\n",
    "X_GB = pd.DataFrame(X , columns = list(vars_gb))\n",
    "X_RF = pd.DataFrame(X , columns = list(vars_rf))\n",
    "X_LR = pd.DataFrame(X , columns = list(vars_lr))"
   ]
  },
  {
   "cell_type": "markdown",
   "metadata": {},
   "source": [
    "## Boosting"
   ]
  },
  {
   "cell_type": "code",
   "execution_count": 18,
   "metadata": {},
   "outputs": [
    {
     "data": {
      "text/plain": [
       "0.8519927955094256"
      ]
     },
     "execution_count": 18,
     "metadata": {},
     "output_type": "execute_result"
    }
   ],
   "source": [
    "# load the model from disk\n",
    "filename='finalized_model_rfim_gb.sav'\n",
    "gb_model = pickle.load(open(filename, 'rb'))\n",
    "gb_roc_auc=roc_auc_score(Y_tf, gb_model.predict(X_GB))\n",
    "gb_roc_auc"
   ]
  },
  {
   "cell_type": "markdown",
   "metadata": {},
   "source": [
    "## Random Forest"
   ]
  },
  {
   "cell_type": "code",
   "execution_count": 19,
   "metadata": {},
   "outputs": [
    {
     "data": {
      "text/plain": [
       "0.7765508928181453"
      ]
     },
     "execution_count": 19,
     "metadata": {},
     "output_type": "execute_result"
    }
   ],
   "source": [
    "# load the model from disk\n",
    "filename='finalized_model_rfim_rf.sav'\n",
    "rf_model = pickle.load(open(filename, 'rb'))\n",
    "rf_roc_auc=roc_auc_score(Y_tf, rf_model.predict(X_RF))\n",
    "rf_roc_auc"
   ]
  },
  {
   "cell_type": "markdown",
   "metadata": {},
   "source": [
    "## Logistic Regression"
   ]
  },
  {
   "cell_type": "code",
   "execution_count": 20,
   "metadata": {},
   "outputs": [
    {
     "data": {
      "text/plain": [
       "0.8461167673900679"
      ]
     },
     "execution_count": 20,
     "metadata": {},
     "output_type": "execute_result"
    }
   ],
   "source": [
    "# load the model from disk\n",
    "filename='finalized_model_rfim_lr.sav'\n",
    "lr_model = pickle.load(open(filename, 'rb'))\n",
    "rf_roc_auc=roc_auc_score(Y_tf, lr_model.predict(X_LR))\n",
    "rf_roc_auc"
   ]
  },
  {
   "cell_type": "markdown",
   "metadata": {},
   "source": [
    "# Constantes de la funcion"
   ]
  },
  {
   "cell_type": "markdown",
   "metadata": {},
   "source": [
    "## Make predictions"
   ]
  },
  {
   "cell_type": "code",
   "execution_count": 21,
   "metadata": {},
   "outputs": [],
   "source": [
    "gb_pred = pd.DataFrame(gb_model.predict(X_GB), columns = ['pred_gb'])\n",
    "rf_pred = pd.DataFrame(rf_model.predict(X_RF), columns = ['pred_rf'])\n",
    "lr_pred = pd.DataFrame(lr_model.predict(X_LR), columns = ['pred_lr'])"
   ]
  },
  {
   "cell_type": "markdown",
   "metadata": {},
   "source": [
    "## Price e mu"
   ]
  },
  {
   "cell_type": "code",
   "execution_count": 22,
   "metadata": {},
   "outputs": [],
   "source": [
    "orders_items_customer['valor']=orders_items_customer['price']+orders_items_customer['freight_value']\n",
    "orders_items_customer['p_n']=orders_items_customer['valor']/max(orders_items_customer['valor'])\n",
    "\n",
    "orders_items_customer['mu_hi']  = orders_items_customer['p_n'].apply(lambda x: 0.5+0.5*x  if x<=0.5  else 0.75+0.25*x)\n",
    "orders_items_customer['mu_low'] = orders_items_customer['p_n'].apply(lambda x: 0.4+0.5*x  if x<=0.5  else 0.65+0.25*x)\n",
    "\n",
    "\n",
    "orders_items_customer['mu_high_counts'] = orders_items_customer['mu_hi']  * orders_items_customer['counts']\n",
    "orders_items_customer['mu_low_counts']  = orders_items_customer['mu_low'] * orders_items_customer['counts']"
   ]
  },
  {
   "cell_type": "code",
   "execution_count": 23,
   "metadata": {},
   "outputs": [
    {
     "data": {
      "text/html": [
       "<div>\n",
       "<style scoped>\n",
       "    .dataframe tbody tr th:only-of-type {\n",
       "        vertical-align: middle;\n",
       "    }\n",
       "\n",
       "    .dataframe tbody tr th {\n",
       "        vertical-align: top;\n",
       "    }\n",
       "\n",
       "    .dataframe thead th {\n",
       "        text-align: right;\n",
       "    }\n",
       "</style>\n",
       "<table border=\"1\" class=\"dataframe\">\n",
       "  <thead>\n",
       "    <tr style=\"text-align: right;\">\n",
       "      <th></th>\n",
       "      <th>review_id</th>\n",
       "      <th>review_score</th>\n",
       "      <th>order_id</th>\n",
       "      <th>review_comment_message</th>\n",
       "      <th>price</th>\n",
       "      <th>freight_value</th>\n",
       "      <th>customer_id</th>\n",
       "      <th>customer_unique_id</th>\n",
       "      <th>counts</th>\n",
       "      <th>class</th>\n",
       "      <th>valor</th>\n",
       "      <th>p_n</th>\n",
       "      <th>mu_hi</th>\n",
       "      <th>mu_low</th>\n",
       "      <th>mu_high_counts</th>\n",
       "      <th>mu_low_counts</th>\n",
       "    </tr>\n",
       "  </thead>\n",
       "  <tbody>\n",
       "    <tr>\n",
       "      <td>0</td>\n",
       "      <td>e64fb393e7b32834bb789ff8bb30750e</td>\n",
       "      <td>5</td>\n",
       "      <td>658677c97b385a9be170737859d3511b</td>\n",
       "      <td>['receber', 'bem', 'antar', 'prazo', 'estipular']</td>\n",
       "      <td>179.99</td>\n",
       "      <td>42.85</td>\n",
       "      <td>de6dff97e5f1ba84a3cd9a3bc97df5f6</td>\n",
       "      <td>c8cf6cb6b838dc7a33ed199b825e8616</td>\n",
       "      <td>1</td>\n",
       "      <td>1</td>\n",
       "      <td>222.84</td>\n",
       "      <td>0.032159</td>\n",
       "      <td>0.516080</td>\n",
       "      <td>0.416080</td>\n",
       "      <td>0.516080</td>\n",
       "      <td>0.416080</td>\n",
       "    </tr>\n",
       "    <tr>\n",
       "      <td>1</td>\n",
       "      <td>f7c4243c7fe1938f181bec41a392bdeb</td>\n",
       "      <td>5</td>\n",
       "      <td>8e6bfb81e283fa7e4f11123a3fb894f1</td>\n",
       "      <td>['parabem', 'loja', 'lannister', 'adorar', 'co...</td>\n",
       "      <td>1199.00</td>\n",
       "      <td>134.25</td>\n",
       "      <td>5986b333ca0d44534a156a52a8e33a83</td>\n",
       "      <td>d16000272660a1fef81482ad75ba572a</td>\n",
       "      <td>1</td>\n",
       "      <td>1</td>\n",
       "      <td>1333.25</td>\n",
       "      <td>0.192407</td>\n",
       "      <td>0.596204</td>\n",
       "      <td>0.496204</td>\n",
       "      <td>0.596204</td>\n",
       "      <td>0.496204</td>\n",
       "    </tr>\n",
       "    <tr>\n",
       "      <td>2</td>\n",
       "      <td>8670d52e15e00043ae7de4c01cc2fe06</td>\n",
       "      <td>4</td>\n",
       "      <td>b9bf720beb4ab3728760088589c62129</td>\n",
       "      <td>['aparelhar', 'eficiente', 'site', 'marcar', '...</td>\n",
       "      <td>586.56</td>\n",
       "      <td>26.69</td>\n",
       "      <td>a5224bdc7685fd39cd7a23404415493d</td>\n",
       "      <td>2bf6fd4ad93eb21b3d604481c48decbf</td>\n",
       "      <td>1</td>\n",
       "      <td>1</td>\n",
       "      <td>613.25</td>\n",
       "      <td>0.088501</td>\n",
       "      <td>0.544250</td>\n",
       "      <td>0.444250</td>\n",
       "      <td>0.544250</td>\n",
       "      <td>0.444250</td>\n",
       "    </tr>\n",
       "    <tr>\n",
       "      <td>3</td>\n",
       "      <td>4b49719c8a200003f700d3d986ea1a19</td>\n",
       "      <td>4</td>\n",
       "      <td>9d6f15f95d01e79bd1349cc208361f09</td>\n",
       "      <td>['pouco', 'travar', 'valor', 'ta', 'bom']</td>\n",
       "      <td>35.00</td>\n",
       "      <td>7.78</td>\n",
       "      <td>8ebbeb09e94d1e789142983f73faa9cd</td>\n",
       "      <td>a5ee02c2d02b8929c0949fc114c5a19e</td>\n",
       "      <td>1</td>\n",
       "      <td>1</td>\n",
       "      <td>42.78</td>\n",
       "      <td>0.006174</td>\n",
       "      <td>0.503087</td>\n",
       "      <td>0.403087</td>\n",
       "      <td>0.503087</td>\n",
       "      <td>0.403087</td>\n",
       "    </tr>\n",
       "    <tr>\n",
       "      <td>4</td>\n",
       "      <td>3948b09f7c818e2d86c9a546758b2335</td>\n",
       "      <td>5</td>\n",
       "      <td>e51478e7e277a83743b6f9991dbfa3fb</td>\n",
       "      <td>['vendedor', 'confiar', 'produto', 'ok', 'entr...</td>\n",
       "      <td>89.99</td>\n",
       "      <td>13.07</td>\n",
       "      <td>659ded3e9b43aaf51cf9586d03033b46</td>\n",
       "      <td>57b1099bb38ee91578d2f1c3ee154082</td>\n",
       "      <td>1</td>\n",
       "      <td>1</td>\n",
       "      <td>103.06</td>\n",
       "      <td>0.014873</td>\n",
       "      <td>0.507437</td>\n",
       "      <td>0.407437</td>\n",
       "      <td>0.507437</td>\n",
       "      <td>0.407437</td>\n",
       "    </tr>\n",
       "  </tbody>\n",
       "</table>\n",
       "</div>"
      ],
      "text/plain": [
       "                          review_id  review_score  \\\n",
       "0  e64fb393e7b32834bb789ff8bb30750e             5   \n",
       "1  f7c4243c7fe1938f181bec41a392bdeb             5   \n",
       "2  8670d52e15e00043ae7de4c01cc2fe06             4   \n",
       "3  4b49719c8a200003f700d3d986ea1a19             4   \n",
       "4  3948b09f7c818e2d86c9a546758b2335             5   \n",
       "\n",
       "                           order_id  \\\n",
       "0  658677c97b385a9be170737859d3511b   \n",
       "1  8e6bfb81e283fa7e4f11123a3fb894f1   \n",
       "2  b9bf720beb4ab3728760088589c62129   \n",
       "3  9d6f15f95d01e79bd1349cc208361f09   \n",
       "4  e51478e7e277a83743b6f9991dbfa3fb   \n",
       "\n",
       "                              review_comment_message    price  freight_value  \\\n",
       "0  ['receber', 'bem', 'antar', 'prazo', 'estipular']   179.99          42.85   \n",
       "1  ['parabem', 'loja', 'lannister', 'adorar', 'co...  1199.00         134.25   \n",
       "2  ['aparelhar', 'eficiente', 'site', 'marcar', '...   586.56          26.69   \n",
       "3          ['pouco', 'travar', 'valor', 'ta', 'bom']    35.00           7.78   \n",
       "4  ['vendedor', 'confiar', 'produto', 'ok', 'entr...    89.99          13.07   \n",
       "\n",
       "                        customer_id                customer_unique_id  counts  \\\n",
       "0  de6dff97e5f1ba84a3cd9a3bc97df5f6  c8cf6cb6b838dc7a33ed199b825e8616       1   \n",
       "1  5986b333ca0d44534a156a52a8e33a83  d16000272660a1fef81482ad75ba572a       1   \n",
       "2  a5224bdc7685fd39cd7a23404415493d  2bf6fd4ad93eb21b3d604481c48decbf       1   \n",
       "3  8ebbeb09e94d1e789142983f73faa9cd  a5ee02c2d02b8929c0949fc114c5a19e       1   \n",
       "4  659ded3e9b43aaf51cf9586d03033b46  57b1099bb38ee91578d2f1c3ee154082       1   \n",
       "\n",
       "  class    valor       p_n     mu_hi    mu_low  mu_high_counts  mu_low_counts  \n",
       "0     1   222.84  0.032159  0.516080  0.416080        0.516080       0.416080  \n",
       "1     1  1333.25  0.192407  0.596204  0.496204        0.596204       0.496204  \n",
       "2     1   613.25  0.088501  0.544250  0.444250        0.544250       0.444250  \n",
       "3     1    42.78  0.006174  0.503087  0.403087        0.503087       0.403087  \n",
       "4     1   103.06  0.014873  0.507437  0.407437        0.507437       0.407437  "
      ]
     },
     "execution_count": 23,
     "metadata": {},
     "output_type": "execute_result"
    }
   ],
   "source": [
    "orders_items_customer.head()"
   ]
  },
  {
   "cell_type": "code",
   "execution_count": 24,
   "metadata": {},
   "outputs": [],
   "source": [
    "cost = orders_items_customer[['mu_high_counts','mu_low_counts']]\n"
   ]
  },
  {
   "cell_type": "code",
   "execution_count": 25,
   "metadata": {},
   "outputs": [],
   "source": [
    "yt=pd.DataFrame(Y_tf.transpose(), columns=['Y_real'])\n",
    "\n",
    "frames = [yt,gb_pred,rf_pred,lr_pred,cost]\n",
    "#result = pd.concat(frames)\n",
    "costo_rfim=pd.concat(frames,axis=1)"
   ]
  },
  {
   "cell_type": "code",
   "execution_count": 26,
   "metadata": {},
   "outputs": [
    {
     "data": {
      "text/html": [
       "<div>\n",
       "<style scoped>\n",
       "    .dataframe tbody tr th:only-of-type {\n",
       "        vertical-align: middle;\n",
       "    }\n",
       "\n",
       "    .dataframe tbody tr th {\n",
       "        vertical-align: top;\n",
       "    }\n",
       "\n",
       "    .dataframe thead th {\n",
       "        text-align: right;\n",
       "    }\n",
       "</style>\n",
       "<table border=\"1\" class=\"dataframe\">\n",
       "  <thead>\n",
       "    <tr style=\"text-align: right;\">\n",
       "      <th></th>\n",
       "      <th>Y_real</th>\n",
       "      <th>pred_gb</th>\n",
       "      <th>pred_rf</th>\n",
       "      <th>pred_lr</th>\n",
       "      <th>mu_high_counts</th>\n",
       "      <th>mu_low_counts</th>\n",
       "    </tr>\n",
       "  </thead>\n",
       "  <tbody>\n",
       "    <tr>\n",
       "      <td>0</td>\n",
       "      <td>1</td>\n",
       "      <td>1</td>\n",
       "      <td>1</td>\n",
       "      <td>1</td>\n",
       "      <td>0.516080</td>\n",
       "      <td>0.416080</td>\n",
       "    </tr>\n",
       "    <tr>\n",
       "      <td>1</td>\n",
       "      <td>1</td>\n",
       "      <td>1</td>\n",
       "      <td>1</td>\n",
       "      <td>1</td>\n",
       "      <td>0.596204</td>\n",
       "      <td>0.496204</td>\n",
       "    </tr>\n",
       "    <tr>\n",
       "      <td>2</td>\n",
       "      <td>1</td>\n",
       "      <td>1</td>\n",
       "      <td>1</td>\n",
       "      <td>1</td>\n",
       "      <td>0.544250</td>\n",
       "      <td>0.444250</td>\n",
       "    </tr>\n",
       "    <tr>\n",
       "      <td>3</td>\n",
       "      <td>1</td>\n",
       "      <td>1</td>\n",
       "      <td>1</td>\n",
       "      <td>1</td>\n",
       "      <td>0.503087</td>\n",
       "      <td>0.403087</td>\n",
       "    </tr>\n",
       "    <tr>\n",
       "      <td>4</td>\n",
       "      <td>1</td>\n",
       "      <td>1</td>\n",
       "      <td>1</td>\n",
       "      <td>1</td>\n",
       "      <td>0.507437</td>\n",
       "      <td>0.407437</td>\n",
       "    </tr>\n",
       "    <tr>\n",
       "      <td>...</td>\n",
       "      <td>...</td>\n",
       "      <td>...</td>\n",
       "      <td>...</td>\n",
       "      <td>...</td>\n",
       "      <td>...</td>\n",
       "      <td>...</td>\n",
       "    </tr>\n",
       "    <tr>\n",
       "      <td>41748</td>\n",
       "      <td>1</td>\n",
       "      <td>1</td>\n",
       "      <td>1</td>\n",
       "      <td>1</td>\n",
       "      <td>0.512174</td>\n",
       "      <td>0.412174</td>\n",
       "    </tr>\n",
       "    <tr>\n",
       "      <td>41749</td>\n",
       "      <td>1</td>\n",
       "      <td>0</td>\n",
       "      <td>0</td>\n",
       "      <td>0</td>\n",
       "      <td>0.503087</td>\n",
       "      <td>0.403087</td>\n",
       "    </tr>\n",
       "    <tr>\n",
       "      <td>41750</td>\n",
       "      <td>1</td>\n",
       "      <td>1</td>\n",
       "      <td>1</td>\n",
       "      <td>1</td>\n",
       "      <td>0.516709</td>\n",
       "      <td>0.416709</td>\n",
       "    </tr>\n",
       "    <tr>\n",
       "      <td>41751</td>\n",
       "      <td>0</td>\n",
       "      <td>0</td>\n",
       "      <td>0</td>\n",
       "      <td>0</td>\n",
       "      <td>0.501283</td>\n",
       "      <td>0.401283</td>\n",
       "    </tr>\n",
       "    <tr>\n",
       "      <td>41752</td>\n",
       "      <td>0</td>\n",
       "      <td>0</td>\n",
       "      <td>0</td>\n",
       "      <td>0</td>\n",
       "      <td>0.502935</td>\n",
       "      <td>0.402935</td>\n",
       "    </tr>\n",
       "  </tbody>\n",
       "</table>\n",
       "<p>41753 rows × 6 columns</p>\n",
       "</div>"
      ],
      "text/plain": [
       "       Y_real  pred_gb  pred_rf  pred_lr  mu_high_counts  mu_low_counts\n",
       "0           1        1        1        1        0.516080       0.416080\n",
       "1           1        1        1        1        0.596204       0.496204\n",
       "2           1        1        1        1        0.544250       0.444250\n",
       "3           1        1        1        1        0.503087       0.403087\n",
       "4           1        1        1        1        0.507437       0.407437\n",
       "...       ...      ...      ...      ...             ...            ...\n",
       "41748       1        1        1        1        0.512174       0.412174\n",
       "41749       1        0        0        0        0.503087       0.403087\n",
       "41750       1        1        1        1        0.516709       0.416709\n",
       "41751       0        0        0        0        0.501283       0.401283\n",
       "41752       0        0        0        0        0.502935       0.402935\n",
       "\n",
       "[41753 rows x 6 columns]"
      ]
     },
     "execution_count": 26,
     "metadata": {},
     "output_type": "execute_result"
    }
   ],
   "source": [
    "costo_rfim"
   ]
  },
  {
   "cell_type": "code",
   "execution_count": 27,
   "metadata": {},
   "outputs": [],
   "source": [
    "costo_rfim.to_csv(\"C:\\\\Users\\\\d.cadavid141\\\\Documents\\\\Coisas Daniela\\\\201920\\\\201920\\\\00_Bases\\\\brazilian-ecommerce\\\\costo_rfim.csv\")\n"
   ]
  },
  {
   "cell_type": "markdown",
   "metadata": {},
   "source": [
    "## Costo autom."
   ]
  },
  {
   "cell_type": "code",
   "execution_count": 28,
   "metadata": {},
   "outputs": [],
   "source": [
    "def costo_d(x):\n",
    "    if x['Y_real']==x['pred_gb'] and x['pred_gb']==0:\n",
    "        return x['mu_low_counts']\n",
    "    \n",
    "def costo_a(x):\n",
    "    if x['Y_real']!=x['pred_gb'] and x['pred_gb']==1:\n",
    "        return x['mu_high_counts']\n",
    "    \n",
    "def costo_b(x):\n",
    "    if x['Y_real']==1 and x['pred_gb']==0:\n",
    "        return 0.01"
   ]
  },
  {
   "cell_type": "code",
   "execution_count": 29,
   "metadata": {},
   "outputs": [],
   "source": [
    "d = costo_rfim.apply(costo_d, axis=1)\n",
    "a = costo_rfim.apply(costo_a, axis=1)\n",
    "b = costo_rfim.apply(costo_b, axis=1)"
   ]
  },
  {
   "cell_type": "code",
   "execution_count": 30,
   "metadata": {},
   "outputs": [
    {
     "name": "stdout",
     "output_type": "stream",
     "text": [
      "Soft Function RFIM_GB=-2293.26\n"
     ]
    }
   ],
   "source": [
    "D=d.sum()\n",
    "A=a.sum()\n",
    "B=b.sum()\n",
    "\n",
    "Costo_GB=A+B-D\n",
    "print(f'Soft Function RFIM_GB='+str(round(Costo_GB,2)))"
   ]
  },
  {
   "cell_type": "code",
   "execution_count": null,
   "metadata": {},
   "outputs": [],
   "source": []
  }
 ],
 "metadata": {
  "kernelspec": {
   "display_name": "Python 3",
   "language": "python",
   "name": "python3"
  },
  "language_info": {
   "codemirror_mode": {
    "name": "ipython",
    "version": 3
   },
   "file_extension": ".py",
   "mimetype": "text/x-python",
   "name": "python",
   "nbconvert_exporter": "python",
   "pygments_lexer": "ipython3",
   "version": "3.7.4"
  }
 },
 "nbformat": 4,
 "nbformat_minor": 4
}
