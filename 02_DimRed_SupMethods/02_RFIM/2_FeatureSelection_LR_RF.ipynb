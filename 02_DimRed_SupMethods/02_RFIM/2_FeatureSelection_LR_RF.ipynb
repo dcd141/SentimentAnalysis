{
 "cells": [
  {
   "cell_type": "code",
   "execution_count": 1,
   "metadata": {},
   "outputs": [],
   "source": [
    "import os\n",
    "import pickle"
   ]
  },
  {
   "cell_type": "code",
   "execution_count": 2,
   "metadata": {},
   "outputs": [],
   "source": [
    "import matplotlib.pyplot as plt\n",
    "import pandas as pd\n",
    "import numpy as np\n",
    "import seaborn as sns\n",
    "import glob\n",
    "import sys\n",
    "import pandas as pd\n",
    "#import tensorflow\n",
    "#import keras\n",
    "import wordcloud\n",
    "import nltk\n",
    "import inspect\n",
    "import re\n",
    "import unicodedata\n"
   ]
  },
  {
   "cell_type": "code",
   "execution_count": 3,
   "metadata": {},
   "outputs": [],
   "source": [
    "# Importing libraries\n",
    "import pandas as pd\n",
    "import numpy as np\n",
    "import seaborn as sns\n",
    "import matplotlib.pyplot as plt\n",
    "%matplotlib inline\n",
    "from matplotlib.gridspec import GridSpec\n",
    "#import missingno as msno\n",
    "import re\n",
    "from collections import Counter\n",
    "import nltk\n",
    "from nltk.corpus import stopwords\n",
    "from nltk.stem import RSLPStemmer\n",
    "import string\n",
    "import sys\n",
    "from sklearn.model_selection import train_test_split\n",
    "from sklearn.feature_extraction.text import CountVectorizer, TfidfVectorizer\n",
    "from sklearn.base import BaseEstimator, TransformerMixin\n",
    "from scipy.sparse import csr_matrix\n",
    "from sklearn.pipeline import Pipeline\n",
    "from sklearn.linear_model import LogisticRegression\n",
    "from sklearn.model_selection import cross_val_score, cross_val_predict\n",
    "from sklearn.metrics import confusion_matrix, accuracy_score, precision_score, recall_score, f1_score\n",
    "from sklearn.model_selection import cross_val_score, cross_val_predict\n",
    "from sklearn.metrics import confusion_matrix, accuracy_score, precision_score, recall_score, f1_score,roc_auc_score,roc_curve\n",
    "from sklearn.decomposition import PCA\n",
    "\n",
    "from sklearn.preprocessing import StandardScaler\n",
    "from sklearn.ensemble import RandomForestClassifier\n",
    "from sklearn.datasets import make_classification\n",
    "from sklearn.ensemble import GradientBoostingClassifier\n",
    "from sklearn.linear_model import LogisticRegression\n",
    "\n",
    "import time\n",
    "import sys\n",
    "import math\n",
    "import itertools\n",
    "from sklearn.naive_bayes import GaussianNB\n",
    "from sklearn.svm import SVC\n",
    "#import folium\n",
    "#from folium.plugins import Fullscreen\n",
    "#import geopandas as gpd\n",
    "import json\n",
    "from wordcloud import WordCloud\n",
    "import warnings\n",
    "warnings.filterwarnings('ignore')"
   ]
  },
  {
   "cell_type": "code",
   "execution_count": 4,
   "metadata": {},
   "outputs": [],
   "source": [
    "# Defining functions\n",
    "def PCA_var(varianza,X):\n",
    "    \"\"\"\n",
    "    Function responsible for calculating the number of components to explain the % of variance \n",
    "    \n",
    "    Returns:\n",
    "        number of components\n",
    "    \"\"\"\n",
    " \n",
    "   \n",
    "    pca = PCA(varianza)\n",
    "    pca_fit = pca.fit(X)\n",
    "    features = pca_fit.n_components_\n",
    "    \n",
    "    return features\n",
    "    \n",
    "    \n",
    "def PCA_comp(comp,X):\n",
    "    \"\"\"\n",
    "    Function responsible for calculating the explained variance based on a number of components\n",
    "    \n",
    "    Returns:\n",
    "        Explained variance\n",
    "    \"\"\"\n",
    "    \n",
    "    pca = PCA(n_components=comp)\n",
    "    pca_fit = pca.fit(X)\n",
    "    var = np.sum(pca_fit.explained_variance_ratio_)\n",
    "    \n",
    "    return var\n",
    "    \n",
    "    \n",
    "\n",
    "def format_spines(ax, right_border=True):\n",
    "    \"\"\"\n",
    "    This function is responsible for format axis from graphs\n",
    "    \n",
    "    Input:\n",
    "        ax: matplotlib axis\n",
    "        right_border: boolean flag for plot the right border of graphs\n",
    "    \n",
    "    Output:\n",
    "        None\n",
    "    \"\"\"    \n",
    "    ax.spines['bottom'].set_color('#CCCCCC')\n",
    "    ax.spines['left'].set_color('#CCCCCC')\n",
    "    ax.spines['top'].set_visible(False)\n",
    "    if right_border:\n",
    "        ax.spines['right'].set_color('#CCCCCC')\n",
    "    else:\n",
    "        ax.spines['right'].set_color('#FFFFFF')\n",
    "    ax.patch.set_facecolor('#FFFFFF')\n",
    "    \n",
    "def bar_plot(x, y, df, ax, colors='Blues_d', hue=False, value=False):\n",
    "    \"\"\"\n",
    "    This function plots, and customize a bar chart\n",
    "\n",
    "    Input:\n",
    "        x: feature to be plotted on x axis\n",
    "        y: feature to be plotted on y axis\n",
    "        df: DataFrame object with features used on x and y\n",
    "        colors: standard palette is \"Blues_d\"\n",
    "        hue: separation value, standard is False\n",
    "        value: flag for defining if the data labels on bars will be the value (True) or percentual (False)\n",
    "        \n",
    "    Returns:\n",
    "        None\n",
    "    \"\"\"\n",
    "    # Counting numerical feature (x or y)\n",
    "    try:\n",
    "        ncount = sum(df[y])\n",
    "    except:\n",
    "        ncount = sum(df[x])\n",
    "    \n",
    "    # Plotting\n",
    "    if hue != False:\n",
    "        ax = sns.barplot(x=x, y=y, data=df, palette=colors, hue=hue, ax=ax, ci=None)\n",
    "    else:\n",
    "        ax = sns.barplot(x=x, y=y, data=df, palette=colors, ax=ax, ci=None)\n",
    "\n",
    "    # Customizing data labels (values of percents)\n",
    "    for p in ax.patches:\n",
    "        xp=p.get_bbox().get_points()[:,0]\n",
    "        yp=p.get_bbox().get_points()[1,1]\n",
    "        if value:\n",
    "            ax.annotate('{:.2f}k'.format(yp/1000), (xp.mean(), yp), \n",
    "                    ha='center', va='bottom')\n",
    "        else:\n",
    "            ax.annotate('{:.1f}%'.format(100.*yp/ncount), (xp.mean(), yp), \n",
    "                    ha='center', va='bottom')\n",
    "            \n",
    "def add_series_working_days(series_name, df, date_col1, date_col2):\n",
    "    \"\"\"\n",
    "    This function is used for calculating working days between two dates\n",
    "    as an additional column on a DataFrame\n",
    "    \n",
    "    Input:\n",
    "        series_names: name of the new series created with working days calculated\n",
    "        df: DataFrame object with the dates\n",
    "        date_col1: date column 1\n",
    "        date_col2: date column 2\n",
    "        \n",
    "    Returns:\n",
    "        df_return: DataFrame with working days columns\n",
    "    \"\"\"\n",
    "    # Creating a list with the difference between dates\n",
    "    time_list = []\n",
    "    idx = 0\n",
    "    second_date_series = df[date_col2].values.astype('datetime64[D]')\n",
    "    for date in df[date_col1].values.astype('datetime64[D]'):\n",
    "        second_date = second_date_series[idx]\n",
    "        try:\n",
    "            workdays = np.busday_count(date, second_date)\n",
    "        except:\n",
    "            workdays = np.NaN\n",
    "        time_list.append(workdays)\n",
    "        idx += 1\n",
    "    \n",
    "    # Adding column in a DataFrame object\n",
    "    df_return = df.copy()\n",
    "    df_return[series_name] = pd.Series(time_list)\n",
    "    df_return.dropna(inplace=True)\n",
    "    \n",
    "    return df_return\n",
    "\n",
    "def communicate_params(freight, deliv, est):\n",
    "    \"\"\"\n",
    "    Additional function create for helping on graphical exploration (state dashboard)\n",
    "    \n",
    "    Input:\n",
    "        freight: freight value to be plotted as a text\n",
    "        deliv: delivery time to be plotted as a text\n",
    "        estimative: differente between delivery time and estimative time to be plotted as a text\n",
    "    \n",
    "    Returns:\n",
    "        None\n",
    "    \"\"\"  \n",
    "    # Comunicando o frete\n",
    "    axs[0, 0].text(0.10, 0.30, f'R${freight:.2f}', fontsize=45)\n",
    "    axs[0, 0].text(0.07, 0.12, 'is the mean value of freight paid', fontsize=12)\n",
    "    axs[0, 0].text(0.25, 0.00, 'for online shopping', fontsize=12)\n",
    "    axs[0, 0].axis('off')\n",
    "\n",
    "    # Comunicando tempo médio de entrega\n",
    "    axs[0, 1].text(0.13, 0.30, f'{deliv:.2f}', fontsize=45)\n",
    "    axs[0, 1].text(0.62, 0.30, 'working days', fontsize=12)\n",
    "    axs[0, 1].text(0.07, 0.12, 'is the average delay for delivery', fontsize=12)\n",
    "    axs[0, 1].text(0.23, 0.00, 'for online shopping', fontsize=12)\n",
    "    axs[0, 1].axis('off')\n",
    "\n",
    "    # Comunicando diferença entre tempo de entrega e tempo estimado\n",
    "    axs[0, 2].text(0.18, 0.30, f'{est:.2f}', fontsize=45)\n",
    "    axs[0, 2].text(0.58, 0.30, 'working days', fontsize=12)\n",
    "    axs[0, 2].text(0.07, 0.12, 'is the difference between estimated', fontsize=12)\n",
    "    axs[0, 2].text(0.23, 0.00, 'date and delivery date', fontsize=12)\n",
    "    axs[0, 2].axis('off') \n",
    "    \n",
    "def plot_param(df, col, title, xlim, n_row, n_col, y='customer_state', div_xlim=0, \n",
    "               one_axis=False, xlabel=[], ylabel='State'):\n",
    "    \"\"\"\n",
    "    This function is used for plotting a comparative study on 5 better and 5 worst according to the topic\n",
    "    \n",
    "    Input:\n",
    "        df: DataFrame object with the data\n",
    "        col: column to be studied\n",
    "        title: title\n",
    "        xlim: xlim\n",
    "        n_row: line index where the graph will be plotted\n",
    "        n_col: column index where the graph will be plotted\n",
    "    \"\"\"\n",
    "    # Axis definition\n",
    "    if one_axis:\n",
    "        ax_top = axs[n_col]\n",
    "        ax_last = axs[n_col+1]\n",
    "    else:\n",
    "        ax_top = axs[n_row, n_col]\n",
    "        ax_last = axs[n_row+1, n_col]\n",
    "    \n",
    "    # First step: Top 5\n",
    "    df.sort_values(by=col, ascending=False, inplace=True)\n",
    "    top5 = df.iloc[:5, :]\n",
    "    sns.barplot(x=col, y=y, data=top5, ci=None, palette='Blues_d', ax=ax_top)\n",
    "    format_spines(ax_top, right_border=False)\n",
    "    ax_top.set_title(title)\n",
    "    ax_top.set_xlim(0, xlim)\n",
    "    ax_top.set_xlabel(xlabel)\n",
    "    if n_col > 0:\n",
    "        ax_top.set_ylabel('')\n",
    "    else:\n",
    "        ax_top.set_ylabel(ylabel)\n",
    "    \n",
    "    # Second step: Last 5\n",
    "    last5 = df.iloc[-5:, :]\n",
    "    sns.barplot(x=col, y=y, data=last5, ci=None, palette='Blues_d', ax=ax_last)\n",
    "    format_spines(ax_last, right_border=False)\n",
    "    ax_last.set_title(title.replace('Highest', 'Lowest'))\n",
    "    if div_xlim > 0:\n",
    "        ax_last.set_xlim(0, xlim/div_xlim)\n",
    "    else:\n",
    "        ax_last.set_xlim(0, xlim)\n",
    "    ax_last.set_xlabel(xlabel)\n",
    "    if n_col > 0:\n",
    "        ax_last.set_ylabel('')\n",
    "    else:\n",
    "        ax_last.set_ylabel(ylabel)\n",
    "        \n",
    "def donut_plot(col, ax, df, labels, text='', flag_ruido = 0,\n",
    "               colors=['navy', 'lightsteelblue', 'lightgreen', 'crimson', '']):\n",
    "    \"\"\"\n",
    "    This function plots a customized donut plot\n",
    "    \n",
    "    Input:\n",
    "        col: coluna a ser analisada e plotada no gráfico de rosca\n",
    "        ax: matplotlib axis\n",
    "        df: DataFrame with data\n",
    "        labels: list of labels to be plotted\n",
    "        text: text to be plotted on the center of the donut\n",
    "        flag_ruido: thie parameter indicates the number of labels to be filtered from plot\n",
    "        colors: list of colors (4 colors from default)\n",
    "    \"\"\"\n",
    "    flag_ruido = flag_ruido * -1\n",
    "    if flag_ruido < 0:\n",
    "        sizes = df[col].value_counts().values[:flag_ruido]\n",
    "        labels = labels[:flag_ruido]\n",
    "    else:\n",
    "        sizes = df[col].value_counts().values\n",
    "    center_circle = plt.Circle((0,0), 0.80, color='white')\n",
    "    ax.pie(sizes, labels=labels, colors=colors, autopct='%1.2f%%')\n",
    "    ax.add_artist(center_circle)\n",
    "    kwargs = dict(size=20, fontweight='bold', va='center')\n",
    "    ax.text(0, 0, text, ha='center', **kwargs)\n",
    "    \n",
    "def text_process(c):\n",
    "    \"\"\"\n",
    "    Function responsible for removing punctuation and stopwords from reviews\n",
    "    \n",
    "    Input:\n",
    "        c: customer review\n",
    "    \n",
    "    Output:\n",
    "        reviews without punctuation and stopwords\n",
    "    \"\"\"\n",
    "    # Remove punctuation\n",
    "    nopunc = [char for char in c if char not in string.punctuation]\n",
    "\n",
    "    # Join string again\n",
    "    nopunc = ''.join(nopunc)\n",
    "    \n",
    "    # Remove stopwords\n",
    "    return [word.lower() for word in nopunc.split() if word.lower() not in stopwords.words('portuguese')]\n",
    "\n",
    "def stem_processing(c):\n",
    "    \"\"\"\n",
    "    Function repsonsible for apply stemming on reviews\n",
    "    \n",
    "    Input:\n",
    "        c: customer review\n",
    "        \n",
    "    Output:\n",
    "        review after stemming\n",
    "    \"\"\"\n",
    "    \n",
    "    stemmer = RSLPStemmer()\n",
    "    return list(map(lambda x: stemmer.stem(x), [word for word in c.split()]))\n",
    "\n",
    "def create_dataset():\n",
    "    \"\"\"\n",
    "    Function responsible for creating an empty DataFrame object with some of classification metrics\n",
    "    \n",
    "    Returns:\n",
    "        empty DataFrame object\n",
    "    \"\"\"\n",
    "    attributes = ['acc', 'prec', 'rec', 'f1', 'total_time']\n",
    "    model_performance = pd.DataFrame({})\n",
    "    for col in attributes:\n",
    "        model_performance[col] = []\n",
    "        \n",
    "    return model_performance\n",
    "\n",
    "def model_analysis(model, X, y, X_test, y_test, df_performance, cv=5, train=True):\n",
    "    \"\"\"\n",
    "    Function responsible for evaluate a classification model and save the results on a DataFrame object\n",
    "    \n",
    "    Input:\n",
    "        model: model to be used on evaluation\n",
    "        X, y, X_test, y_test: train and test data (with target labels)\n",
    "        df_performance: empty DataFrame (generated by create_dataset() function)\n",
    "        cv: cross validation k folds\n",
    "\n",
    "    Returns:\n",
    "        a DataFrame object with classification metrics selected\n",
    "    \"\"\"\n",
    "    # Accuracy, precision, recall and f1_score on training set using cv\n",
    "    t0_cv = time.time()\n",
    "    acc = cross_val_score(model, X, y, cv=cv, scoring='accuracy').mean()\n",
    "    prec = cross_val_score(model, X, y, cv=cv, scoring='precision').mean()\n",
    "    rec = cross_val_score(model, X, y, cv=cv, scoring='recall').mean()\n",
    "    f1 = cross_val_score(model, X, y, cv=cv, scoring='f1').mean()\n",
    "    # Time spent on cross_validation prediction\n",
    "    t1_cv = time.time()\n",
    "    delta_time_cv = t1_cv-t0_cv\n",
    "    \n",
    "    # Evaluation using the test set\n",
    "    t0_test = time.time()\n",
    "    y_pred_test = model.predict(X_test)\n",
    "    acc_test = accuracy_score(y_test, y_pred_test)\n",
    "    prec_test = precision_score(y_test, y_pred_test)\n",
    "    rec_test = recall_score(y_test, y_pred_test)\n",
    "    f1_test = f1_score(y_test, y_pred_test)\n",
    "    y_scores_test = model.predict_proba(X_test)[:, 1]\n",
    "    # Time spent on test prediction\n",
    "    t1_test = time.time()\n",
    "    delta_time_test = t1_test-t0_test\n",
    "\n",
    "    # Saving on dataframe\n",
    "    performances = {}\n",
    "    performances['acc'] = round(acc, 4)\n",
    "    performances['prec'] = round(prec, 4)\n",
    "    performances['rec'] = round(rec, 4)\n",
    "    performances['f1'] = round(f1, 4)\n",
    "    performances['total_time'] = round(delta_time_cv, 3)        \n",
    "    df_performance = df_performance.append(performances, ignore_index=True)\n",
    "    \n",
    "    test_performances = {}\n",
    "    test_performances['acc'] = round(acc_test, 4)\n",
    "    test_performances['prec'] = round(prec_test, 4)\n",
    "    test_performances['rec'] = round(rec_test, 4)\n",
    "    test_performances['f1'] = round(f1_test, 4)\n",
    "    test_performances['total_time'] = round(delta_time_test, 3)        \n",
    "    df_performance = df_performance.append(test_performances, ignore_index=True)\n",
    "    \n",
    "    model_name = model.__class__.__name__\n",
    "    df_performance.index = [model_name+' cv', model_name+' test']\n",
    "    \n",
    "    return df_performance\n",
    "\n",
    "def plot_confusion_matrix(cm, classes, title='Confusion matrix', cmap=plt.cm.Blues):\n",
    "    \"\"\"\n",
    "    This function plots a customized confusion matrix\n",
    "    \n",
    "    Input:\n",
    "        cm: confusion matrix generated from sklearn's method confusion_matrix(set, predictions)\n",
    "        classes: target labels to be plotted\n",
    "        title: title\n",
    "        cmap: matrix color\n",
    "    Output:\n",
    "        None\n",
    "    \"\"\"\n",
    "    plt.imshow(cm, interpolation='nearest', cmap=cmap)\n",
    "    plt.title(title, fontsize=14)\n",
    "    plt.colorbar()\n",
    "    tick_marks = np.arange(len(classes))\n",
    "    plt.xticks(tick_marks, classes, rotation=45)\n",
    "    plt.yticks(tick_marks, classes)\n",
    "    \n",
    "    # Plot configuration\n",
    "    thresh = cm.max() / 1.2\n",
    "    for i, j in itertools.product(range(cm.shape[0]), range(cm.shape[1])):\n",
    "        plt.text(j, i, format(cm[i, j]),\n",
    "                 horizontalalignment=\"center\",\n",
    "                 color=\"white\" if cm[i, j] > thresh else \"black\")\n",
    "    plt.ylabel('True label')\n",
    "    plt.xlabel('Predicted label')\n",
    "    \n",
    "def style_function(feature):\n",
    "    \"\"\"\n",
    "    Customize maps\n",
    "    \"\"\"\n",
    "    return {\n",
    "        'fillColor': '#ffaf00',\n",
    "        'color': 'grey',\n",
    "        'weight': 1.5,\n",
    "        'dashArray': '5, 5'\n",
    "    }\n",
    "\n",
    "def highlight_function(feature):\n",
    "    \"\"\"\n",
    "    Customize maps\n",
    "    \"\"\"\n",
    "    return {\n",
    "        'fillColor': '#ffaf00',\n",
    "        'color': 'black',\n",
    "        'weight': 2,\n",
    "        'dashArray': '5, 5'\n",
    "    }\n",
    "\n",
    "def plot_sentimento(model, frase):\n",
    "    \"\"\"\n",
    "    This function receives a text example and uses a classification model to predict\n",
    "    the sentiment label and communicate the result in a graphic plot\n",
    "    \n",
    "    Input:\n",
    "        model: classification model\n",
    "        frase: pre processed text\n",
    "    \n",
    "    Output:\n",
    "        result plotted on matplotlib\n",
    "    \"\"\"\n",
    "    # Predicting\n",
    "    pred = model.predict(frase)\n",
    "    fig, ax = plt.subplots(figsize=(5, 3))\n",
    "    if pred[0] == 1:\n",
    "        text = 'Positive'\n",
    "        proba = 100 * round(model.predict_proba(frase)[0][1], 4)\n",
    "        color = 'seagreen'\n",
    "    else:\n",
    "        text = 'Negative'\n",
    "        proba = 100 * round(model.predict_proba(frase)[0][0], 4)\n",
    "        color = 'crimson'\n",
    "    ax.text(0.5, 0.5, text, fontsize=50, ha='center', color=color)\n",
    "    ax.text(0.5, 0.20, str(proba) + '%', fontsize=14, ha='center')\n",
    "    ax.axis('off')\n",
    "    ax.set_title('Sentiment', fontsize=14)\n",
    "    plt.show()"
   ]
  },
  {
   "cell_type": "code",
   "execution_count": 5,
   "metadata": {},
   "outputs": [
    {
     "data": {
      "text/plain": [
       "'C:\\\\Users\\\\d.cadavid141\\\\Documents\\\\Coisas Daniela\\\\201920\\\\201920\\\\00_Bases\\\\brazilian-ecommerce'"
      ]
     },
     "execution_count": 5,
     "metadata": {},
     "output_type": "execute_result"
    }
   ],
   "source": [
    "os.chdir(\"C:\\\\Users\\\\d.cadavid141\\\\Documents\\\\Coisas Daniela\\\\201920\\\\201920\\\\00_Bases\\\\brazilian-ecommerce\\\\\")\n",
    "os.getcwd()"
   ]
  },
  {
   "cell_type": "code",
   "execution_count": 6,
   "metadata": {},
   "outputs": [],
   "source": [
    "orders=pd.read_csv('data_tratada_v_nao.csv')"
   ]
  },
  {
   "cell_type": "code",
   "execution_count": 7,
   "metadata": {},
   "outputs": [],
   "source": [
    "####### ACA SE CREA EL BOW\n",
    "from sklearn.feature_extraction.text import TfidfVectorizer\n",
    "vectorizer = TfidfVectorizer()\n",
    "X_tfidf = vectorizer.fit_transform(orders.review_comment_message).toarray()\n"
   ]
  },
  {
   "cell_type": "code",
   "execution_count": 9,
   "metadata": {},
   "outputs": [],
   "source": [
    "# Creating the class label\n",
    "bin_edges = [0, 2, 5]\n",
    "bin_names = ['0', '1']\n",
    "orders['class'] = pd.cut(orders['review_score'] , bins=bin_edges, labels=bin_names)\n",
    "#orders = orders.iloc[:, np.r_[0, 1, 3, 4, 2, 5,6]"
   ]
  },
  {
   "cell_type": "code",
   "execution_count": 10,
   "metadata": {},
   "outputs": [
    {
     "data": {
      "text/plain": [
       "array([1, 1, 1, ..., 1, 0, 0])"
      ]
     },
     "execution_count": 10,
     "metadata": {},
     "output_type": "execute_result"
    }
   ],
   "source": [
    "y = orders['class'].values\n",
    "Y_tf = y.astype(int)\n",
    "Y_tf"
   ]
  },
  {
   "cell_type": "code",
   "execution_count": 11,
   "metadata": {},
   "outputs": [],
   "source": [
    "from sklearn.model_selection import train_test_split\n",
    "\n",
    "X_train, X_test, y_train, y_test = train_test_split(X_tfidf, Y_tf, test_size = 3/10, random_state = 9)"
   ]
  },
  {
   "cell_type": "code",
   "execution_count": 12,
   "metadata": {},
   "outputs": [],
   "source": [
    "# RF\n",
    "clf = RandomForestClassifier(n_estimators=100,criterion=\"gini\",max_depth=5, random_state=9)\n",
    "#Revisar numero de hojas después así como: max_features=sqrt(n_features)\n"
   ]
  },
  {
   "cell_type": "code",
   "execution_count": 13,
   "metadata": {},
   "outputs": [
    {
     "data": {
      "text/plain": [
       "RandomForestClassifier(bootstrap=True, class_weight=None, criterion='gini',\n",
       "                       max_depth=5, max_features='auto', max_leaf_nodes=None,\n",
       "                       min_impurity_decrease=0.0, min_impurity_split=None,\n",
       "                       min_samples_leaf=1, min_samples_split=2,\n",
       "                       min_weight_fraction_leaf=0.0, n_estimators=100,\n",
       "                       n_jobs=None, oob_score=False, random_state=9, verbose=0,\n",
       "                       warm_start=False)"
      ]
     },
     "execution_count": 13,
     "metadata": {},
     "output_type": "execute_result"
    }
   ],
   "source": [
    "# Treino \n",
    "clf.fit(X_train, y_train)"
   ]
  },
  {
   "cell_type": "code",
   "execution_count": 14,
   "metadata": {},
   "outputs": [],
   "source": [
    "# Predicao\n",
    "y_pred = clf.predict(X_test)"
   ]
  },
  {
   "cell_type": "code",
   "execution_count": 15,
   "metadata": {},
   "outputs": [
    {
     "name": "stdout",
     "output_type": "stream",
     "text": [
      "0.7268082388631646\n"
     ]
    }
   ],
   "source": [
    "# Resultados parecidos com o modelo com modelo\n",
    "score = clf.score(X_test, y_test)\n",
    "print(score)"
   ]
  },
  {
   "cell_type": "code",
   "execution_count": 19,
   "metadata": {},
   "outputs": [],
   "source": [
    "#feature_imp.shape\n",
    "feature_imp.to_csv('feature_imp_100vars.csv')"
   ]
  },
  {
   "cell_type": "code",
   "execution_count": 19,
   "metadata": {},
   "outputs": [],
   "source": [
    "vars_imp=feature_imp[feature_imp>0]"
   ]
  },
  {
   "cell_type": "code",
   "execution_count": 21,
   "metadata": {},
   "outputs": [
    {
     "data": {
      "text/plain": [
       "Index(['aguardar', 'receber', 'retornar', 'momento', 'vir', 'otimo', 'pagar',\n",
       "       'nao', 'dois', 'saber',\n",
       "       ...\n",
       "       'tanto', 'linda', 'entrege', 'felino', 'nenem', 'floral', 'atendinento',\n",
       "       'entegue', 'apaixonado', 'mt'],\n",
       "      dtype='object', length=664)"
      ]
     },
     "execution_count": 21,
     "metadata": {},
     "output_type": "execute_result"
    }
   ],
   "source": [
    "vars_usar=feature_imp.index[0:664]\n",
    "vars_usar"
   ]
  },
  {
   "cell_type": "code",
   "execution_count": 22,
   "metadata": {},
   "outputs": [],
   "source": [
    "# Select the ones you want\n",
    "cols=vectorizer.get_feature_names()\n",
    "list_vars = list(vars_usar)\n",
    "\n",
    "X_train_mod=pd.DataFrame(X_train)\n",
    "X_train_mod.columns = cols\n",
    "\n",
    "X_test_mod=pd.DataFrame(X_test)\n",
    "X_test_mod.columns = cols"
   ]
  },
  {
   "cell_type": "code",
   "execution_count": 23,
   "metadata": {},
   "outputs": [],
   "source": [
    "#"
   ]
  },
  {
   "cell_type": "code",
   "execution_count": 24,
   "metadata": {},
   "outputs": [],
   "source": [
    "#df1 = df[[vars_usar]]\n",
    "X_train_n=X_train_mod[list_vars]\n",
    "X_test_n=X_test_mod[list_vars]"
   ]
  },
  {
   "cell_type": "code",
   "execution_count": 25,
   "metadata": {},
   "outputs": [],
   "source": [
    "teste=feature_imp.index[0:664]"
   ]
  },
  {
   "cell_type": "code",
   "execution_count": 27,
   "metadata": {},
   "outputs": [],
   "source": [
    "from tqdm import tqdm\n",
    "getattr(tqdm, '_instances', {}).clear()  # ⬅ add this line"
   ]
  },
  {
   "cell_type": "markdown",
   "metadata": {},
   "source": [
    "### REG LOGISTICA "
   ]
  },
  {
   "cell_type": "code",
   "execution_count": 28,
   "metadata": {},
   "outputs": [
    {
     "name": "stderr",
     "output_type": "stream",
     "text": [
      "  0%|          | 0/664 [00:00<?, ?it/s]"
     ]
    },
    {
     "name": "stdout",
     "output_type": "stream",
     "text": [
      "Iteracion:  1\n"
     ]
    },
    {
     "name": "stderr",
     "output_type": "stream",
     "text": [
      "100%|██████████| 664/664 [03:36<00:00,  3.06it/s]\n"
     ]
    },
    {
     "name": "stdout",
     "output_type": "stream",
     "text": [
      "Se necesitan:  652  variables\n",
      "Para tener: 83.968  de AUC\n"
     ]
    }
   ],
   "source": [
    "auc_f=0\n",
    "idx = 0\n",
    "dif=0.000005\n",
    "array_logr= np.empty((664, 3))\n",
    "\n",
    "for var in tqdm(range(len(teste))):\n",
    "    \n",
    "    if var==0:\n",
    "        X_train_t=X_train_n[X_train_n.columns[0:1]]\n",
    "        X_test_t =X_test_n[X_test_n.columns[0:1]]\n",
    "        logr = LogisticRegression(C=0.5, random_state=9)\n",
    "        #gb_clf = GradientBoostingClassifier(learning_rate=0.5,max_depth=5, random_state=9)\n",
    "        logr.fit(X_train_t, y_train)\n",
    "        rf_roc_auc=roc_auc_score(y_test, logr.predict(X_test_t))\n",
    "        rf_roc_auc_train=roc_auc_score(y_train, logr.predict(X_train_t))\n",
    "        vect_random=[1,rf_roc_auc,rf_roc_auc_train]\n",
    "        array_logr = vect_random\n",
    "    else:\n",
    "        X_train_t=X_train_n[X_train_n.columns[0:var+1]]\n",
    "        X_test_t =X_test_n[X_test_n.columns[0:var+1]]\n",
    "        logr = LogisticRegression(C=0.5, random_state=9)\n",
    "        #gb_clf = GradientBoostingClassifier(learning_rate=0.5,max_depth=5, random_state=9)\n",
    "        logr.fit(X_train_t, y_train)\n",
    "        rf_roc_auc=roc_auc_score(y_test, logr.predict(X_test_t))\n",
    "        rf_roc_auc_train=roc_auc_score(y_train, logr.predict(X_train_t))\n",
    "        vect_random=[var+1,rf_roc_auc,rf_roc_auc_train]\n",
    "        array_logr = np.vstack((array_logr,vect_random))\n",
    "        \n",
    "    if rf_roc_auc>auc_f:\n",
    "        auc_f=rf_roc_auc\n",
    "        idx=var+1\n",
    "        if idx in [1,100,500,1000,1500]:\n",
    "            print(\"Iteracion: \",idx)\n",
    "    else:\n",
    "        auc_f=auc_f\n",
    "        idx=idx\n",
    "        #break    # break here\n",
    "        \n",
    "    df_return = idx\n",
    "print(\"Se necesitan: \", idx,\" variables\")\n",
    "print(\"Para tener: {0:.3f}\".format(auc_f*100),\" de AUC\")"
   ]
  },
  {
   "cell_type": "code",
   "execution_count": 29,
   "metadata": {},
   "outputs": [],
   "source": [
    "cols_array=['NumVar','AUC_val','AUC_train']\n",
    "salvar_logr=pd.DataFrame(array_logr)\n",
    "#cols_array=['NumVar','AUC']\n",
    "salvar_logr.columns=cols_array\n",
    "salvar_logr.to_csv('array_logr_v100_train_val.csv')"
   ]
  },
  {
   "cell_type": "code",
   "execution_count": 31,
   "metadata": {},
   "outputs": [
    {
     "data": {
      "image/png": "[encoded data removed]",
      "text/plain": [
       "<Figure size 432x288 with 1 Axes>"
      ]
     },
     "metadata": {
      "needs_background": "light"
     },
     "output_type": "display_data"
    }
   ],
   "source": [
    "#%matplotlib notebook\n",
    "plt.figure()\n",
    "plt.plot(array_logr[:,0], array_logr[:,2],label='Entrenamiento: (AUC {0:.2f}'.format(array_logr[df_return-1,2]*100)+' con variables {0:.0f}'.format(array_logr[df_return-1,0])+')')\n",
    "plt.plot(array_logr[:,0], array_logr[:,1],label='Validación: (AUC {0:.2f}'.format(array_logr[df_return-1,1]*100)+' con variables {0:.0f}'.format(array_logr[df_return-1,0])+')')\n",
    "\n",
    "#plt.plot([0, 1586.0], [0, 1],'r--')\n",
    "plt.xlim([0.0, 664.0])\n",
    "plt.ylim([0.0, 1.05])\n",
    "plt.xlabel('Número de variables')\n",
    "plt.ylabel('AUC')\n",
    "plt.title('Núm. Vars Vs. AUC')\n",
    "plt.legend(loc=\"lower right\")\n",
    "plt.savefig('LR_Vars_v100')\n",
    "plt.show()"
   ]
  },
  {
   "cell_type": "code",
   "execution_count": 34,
   "metadata": {},
   "outputs": [],
   "source": [
    "X_train_t=X_train_n[X_train_n.columns[0:df_return]]\n",
    "X_test_t =X_test_n[X_test_n.columns[0:df_return]]\n",
    "logr = LogisticRegression( C=0.5,random_state=9)\n",
    "logr.fit(X_train_t, y_train)\n",
    "lr_roc_auc=roc_auc_score(y_test, logr.predict(X_test_t))"
   ]
  },
  {
   "cell_type": "code",
   "execution_count": 35,
   "metadata": {},
   "outputs": [
    {
     "data": {
      "text/plain": [
       "83.9682257315684"
      ]
     },
     "execution_count": 35,
     "metadata": {},
     "output_type": "execute_result"
    }
   ],
   "source": [
    "lr_roc_auc*100"
   ]
  },
  {
   "cell_type": "code",
   "execution_count": 36,
   "metadata": {},
   "outputs": [],
   "source": [
    "# save the model to disk\n",
    "filename = 'finalized_model_rfim_lr.sav'\n",
    "pickle.dump(logr, open(filename, 'wb'))"
   ]
  },
  {
   "cell_type": "code",
   "execution_count": 39,
   "metadata": {},
   "outputs": [
    {
     "data": {
      "image/png": "[encoded data removed]",
      "text/plain": [
       "<Figure size 432x288 with 1 Axes>"
      ]
     },
     "metadata": {
      "needs_background": "light"
     },
     "output_type": "display_data"
    }
   ],
   "source": [
    "# ROC Logistic Reg\n",
    "#%matplotlib notebook\n",
    "#rf_roc_auc = roc_auc_score(y_test, logr.predict(X_test_t))\n",
    "fpr, tpr, thresholds = roc_curve(y_test, logr.predict_proba(X_test_t)[:,1])\n",
    "plt.figure()\n",
    "plt.plot(fpr, tpr, label='Logistic Regression (area = %0.2f)' % lr_roc_auc)\n",
    "plt.plot([0, 1], [0, 1],'r--')\n",
    "plt.xlim([0.0, 1.0])\n",
    "plt.ylim([0.0, 1.05])\n",
    "plt.xlabel('False Positive Rate')\n",
    "plt.ylabel('True Positive Rate')\n",
    "plt.title('Receiver operating characteristic')\n",
    "plt.legend(loc=\"lower right\")\n",
    "plt.savefig('LR_ROC')\n",
    "plt.show()"
   ]
  },
  {
   "cell_type": "markdown",
   "metadata": {},
   "source": [
    "### RANDOM FOREST\n"
   ]
  },
  {
   "cell_type": "code",
   "execution_count": 57,
   "metadata": {},
   "outputs": [],
   "source": [
    "from tqdm import tqdm\n",
    "getattr(tqdm, '_instances', {}).clear()  # ⬅ add this line"
   ]
  },
  {
   "cell_type": "code",
   "execution_count": 58,
   "metadata": {},
   "outputs": [
    {
     "name": "stderr",
     "output_type": "stream",
     "text": [
      "100%|██████████| 664/664 [1:20:01<00:00,  7.23s/it]\n"
     ]
    },
    {
     "name": "stdout",
     "output_type": "stream",
     "text": [
      "Se necesitan:  11  variables\n",
      "Para tener: 77.029  de AUC\n"
     ]
    }
   ],
   "source": [
    "auc_f=0\n",
    "idx = 0\n",
    "dif=0.000005\n",
    "array_rf= np.empty((664, 3))\n",
    "\n",
    "for var in tqdm(range(len(teste))):\n",
    "    \n",
    "    if var==0:\n",
    "        X_train_t=X_train_n[X_train_n.columns[0:1]]\n",
    "        X_test_t =X_test_n[X_test_n.columns[0:1]]\n",
    "        clf = RandomForestClassifier(n_estimators=100,criterion=\"gini\",max_depth=5, random_state=9)\n",
    "        #gb_clf = GradientBoostingClassifier(learning_rate=0.5,max_depth=5, random_state=9)\n",
    "        clf.fit(X_train_t, y_train)\n",
    "        rf_roc_auc=roc_auc_score(y_test, clf.predict(X_test_t))\n",
    "        rf_roc_auc_train=roc_auc_score(y_train, clf.predict(X_train_t))\n",
    "        vect_random=[1,rf_roc_auc,rf_roc_auc_train]\n",
    "        array_rf = vect_random\n",
    "    else:\n",
    "        X_train_t=X_train_n[X_train_n.columns[0:var+1]]\n",
    "        X_test_t =X_test_n[X_test_n.columns[0:var+1]]\n",
    "        clf = RandomForestClassifier(n_estimators=100,criterion=\"gini\",max_depth=5, random_state=9)\n",
    "        #gb_clf = GradientBoostingClassifier(learning_rate=0.5,max_depth=5, random_state=9)\n",
    "        clf.fit(X_train_t, y_train)\n",
    "        rf_roc_auc=roc_auc_score(y_test, clf.predict(X_test_t))\n",
    "        rf_roc_auc_train=roc_auc_score(y_train, clf.predict(X_train_t))\n",
    "        vect_random=[var+1,rf_roc_auc,rf_roc_auc_train]\n",
    "        array_rf = np.vstack((array_rf,vect_random))\n",
    "        \n",
    "    if rf_roc_auc>auc_f:\n",
    "        auc_f=rf_roc_auc\n",
    "        idx=var+1\n",
    "    \n",
    "    else:\n",
    "        auc_f=auc_f\n",
    "        idx=idx\n",
    "        #break    # break here\n",
    "        \n",
    "    df_return = idx\n",
    "print(\"Se necesitan: \", idx,\" variables\")\n",
    "print(\"Para tener: {0:.3f}\".format(auc_f*100),\" de AUC\")"
   ]
  },
  {
   "cell_type": "code",
   "execution_count": 59,
   "metadata": {},
   "outputs": [],
   "source": [
    "cols_array=['NumVar','AUC','AUC_train']\n",
    "salvar_rf=pd.DataFrame(array_rf)\n",
    "#cols_array=['NumVar','AUC']\n",
    "salvar_rf.columns=cols_array\n",
    "salvar_rf.to_csv('array_rf_completo.csv')"
   ]
  },
  {
   "cell_type": "code",
   "execution_count": 64,
   "metadata": {},
   "outputs": [
    {
     "data": {
      "image/png": "[encoded data removed]",
      "text/plain": [
       "<Figure size 432x288 with 1 Axes>"
      ]
     },
     "metadata": {
      "needs_background": "light"
     },
     "output_type": "display_data"
    }
   ],
   "source": [
    "#%matplotlib inline\n",
    "plt.figure()\n",
    "plt.plot(array_rf[:,0], array_rf[:,2],label='Entrenamiento: (AUC {0:.2f}'.format(array_rf[df_return-1,2]*100)+' con variables {0:.0f}'.format(array_rf[df_return-1,0])+')')\n",
    "plt.plot(array_rf[:,0], array_rf[:,1],label='Validación: (AUC {0:.2f}'.format(array_rf[df_return-1,1]*100)+' con variables {0:.0f}'.format(array_rf[df_return-1,0])+')')\n",
    "#plt.plot([0, 1586.0], [0, 1],'r--')\n",
    "plt.xlim([0.0, 664.0])\n",
    "plt.ylim([0.0, 1.05])\n",
    "plt.xlabel('Número de variables')\n",
    "plt.ylabel('AUC')\n",
    "plt.title('Núm. Vars Vs. AUC')\n",
    "plt.legend(loc=\"lower right\")\n",
    "plt.savefig('LR_Vars')\n",
    "plt.show()"
   ]
  },
  {
   "cell_type": "code",
   "execution_count": 62,
   "metadata": {},
   "outputs": [],
   "source": [
    "X_train_t=X_train_n[X_train_n.columns[0:df_return]]\n",
    "X_test_t =X_test_n[X_test_n.columns[0:df_return]]\n",
    "clf = RandomForestClassifier(n_estimators=100,criterion=\"gini\",max_depth=5, random_state=9)\n",
    "clf.fit(X_train_t, y_train)\n",
    "lr_roc_auc=roc_auc_score(y_test, clf.predict(X_test_t))"
   ]
  },
  {
   "cell_type": "code",
   "execution_count": 63,
   "metadata": {},
   "outputs": [
    {
     "data": {
      "image/png": "[encoded data removed]",
      "text/plain": [
       "<Figure size 432x288 with 1 Axes>"
      ]
     },
     "metadata": {
      "needs_background": "light"
     },
     "output_type": "display_data"
    }
   ],
   "source": [
    "# ROC Logistic Reg\n",
    "%matplotlib inline\n",
    "#rf_roc_auc = roc_auc_score(y_test, logr.predict(X_test_t))\n",
    "fpr, tpr, thresholds = roc_curve(y_test, clf.predict_proba(X_test_t)[:,1])\n",
    "plt.figure()\n",
    "plt.plot(fpr, tpr, label='Random Forest (area = %0.2f)' % lr_roc_auc)\n",
    "plt.plot([0, 1], [0, 1],'r--')\n",
    "plt.xlim([0.0, 1.0])\n",
    "plt.ylim([0.0, 1.05])\n",
    "plt.xlabel('False Positive Rate')\n",
    "plt.ylabel('True Positive Rate')\n",
    "plt.title('Receiver operating characteristic')\n",
    "plt.legend(loc=\"lower right\")\n",
    "plt.savefig('RF_ROC')\n",
    "plt.show()"
   ]
  },
  {
   "cell_type": "code",
   "execution_count": null,
   "metadata": {},
   "outputs": [],
   "source": [
    "\n",
    "# save the model to disk\n",
    "filename = 'finalized_model_rfim_rf.sav'\n",
    "pickle.dump(clf, open(filename, 'wb'))"
   ]
  },
  {
   "cell_type": "code",
   "execution_count": null,
   "metadata": {},
   "outputs": [],
   "source": []
  }
 ],
 "metadata": {
  "kernelspec": {
   "display_name": "Python 3",
   "language": "python",
   "name": "python3"
  },
  "language_info": {
   "codemirror_mode": {
    "name": "ipython",
    "version": 3
   },
   "file_extension": ".py",
   "mimetype": "text/x-python",
   "name": "python",
   "nbconvert_exporter": "python",
   "pygments_lexer": "ipython3",
   "version": "3.7.4"
  }
 },
 "nbformat": 4,
 "nbformat_minor": 4
}