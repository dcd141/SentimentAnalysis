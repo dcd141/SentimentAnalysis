{
 "cells": [
  {
   "cell_type": "code",
   "execution_count": 1,
   "metadata": {},
   "outputs": [],
   "source": [
    "import os\n",
    "import pickle"
   ]
  },
  {
   "cell_type": "code",
   "execution_count": 2,
   "metadata": {},
   "outputs": [
    {
     "name": "stderr",
     "output_type": "stream",
     "text": [
      "[nltk_data] Downloading package stopwords to\n",
      "[nltk_data]     C:\\Users\\d.cadavid141\\AppData\\Roaming\\nltk_data...\n",
      "[nltk_data]   Package stopwords is already up-to-date!\n"
     ]
    }
   ],
   "source": [
    "import matplotlib.pyplot as plt\n",
    "import pandas as pd\n",
    "import numpy as np\n",
    "import seaborn as sns\n",
    "import glob\n",
    "import sys\n",
    "import pandas as pd\n",
    "#import tensorflow\n",
    "#import keras\n",
    "import wordcloud\n",
    "import nltk\n",
    "import inspect\n",
    "import re\n",
    "import unicodedata\n",
    "\n",
    "nltk.download('stopwords')\n",
    "\n",
    "from wordcloud import WordCloud\n",
    "from nltk.tokenize import word_tokenize\n",
    "from nltk.tokenize import sent_tokenize\n",
    "\n",
    "from nltk.corpus import stopwords\n",
    "from string import punctuation\n",
    "from nltk.stem import RSLPStemmer #Stemmer for portugese words.\n",
    "\n",
    "from nltk.probability import FreqDist\n",
    "from collections import defaultdict\n",
    "from heapq import nlargest\n",
    "stop = stopwords.words('portuguese')\n",
    "stop.append('nao') #Stopword already have \"Não\", just adding this because it's appear on dataframe"
   ]
  },
  {
   "cell_type": "code",
   "execution_count": 3,
   "metadata": {},
   "outputs": [],
   "source": [
    "# Importing libraries\n",
    "import pandas as pd\n",
    "import numpy as np\n",
    "import seaborn as sns\n",
    "import matplotlib.pyplot as plt\n",
    "%matplotlib inline\n",
    "from matplotlib.gridspec import GridSpec\n",
    "#import missingno as msno\n",
    "import re\n",
    "from collections import Counter\n",
    "import nltk\n",
    "from nltk.corpus import stopwords\n",
    "from nltk.stem import RSLPStemmer\n",
    "import string\n",
    "import sys\n",
    "from sklearn.model_selection import train_test_split\n",
    "from sklearn.feature_extraction.text import CountVectorizer, TfidfVectorizer\n",
    "from sklearn.base import BaseEstimator, TransformerMixin\n",
    "from scipy.sparse import csr_matrix\n",
    "from sklearn.pipeline import Pipeline\n",
    "from sklearn.linear_model import LogisticRegression\n",
    "from sklearn.model_selection import cross_val_score, cross_val_predict\n",
    "from sklearn.metrics import confusion_matrix, accuracy_score, precision_score, recall_score, f1_score\n",
    "from sklearn.model_selection import cross_val_score, cross_val_predict\n",
    "from sklearn.metrics import confusion_matrix, accuracy_score, precision_score, recall_score, f1_score,roc_auc_score,roc_curve\n",
    "from sklearn.decomposition import PCA\n",
    "\n",
    "from sklearn.preprocessing import StandardScaler\n",
    "from sklearn.ensemble import RandomForestClassifier\n",
    "from sklearn.datasets import make_classification\n",
    "from sklearn.ensemble import GradientBoostingClassifier\n",
    "from sklearn.linear_model import LogisticRegression\n",
    "\n",
    "import time\n",
    "import sys\n",
    "import math\n",
    "import itertools\n",
    "from sklearn.naive_bayes import GaussianNB\n",
    "from sklearn.svm import SVC\n",
    "#import folium\n",
    "#from folium.plugins import Fullscreen\n",
    "#import geopandas as gpd\n",
    "import json\n",
    "from wordcloud import WordCloud\n",
    "import warnings\n",
    "warnings.filterwarnings('ignore')"
   ]
  },
  {
   "cell_type": "code",
   "execution_count": 5,
   "metadata": {},
   "outputs": [
    {
     "data": {
      "text/plain": [
       "'C:\\\\Users\\\\d.cadavid141\\\\Documents\\\\Coisas Daniela\\\\201920\\\\201920\\\\03_Codigos'"
      ]
     },
     "execution_count": 5,
     "metadata": {},
     "output_type": "execute_result"
    }
   ],
   "source": [
    "os.getcwd()"
   ]
  },
  {
   "cell_type": "code",
   "execution_count": 6,
   "metadata": {},
   "outputs": [
    {
     "data": {
      "text/plain": [
       "'C:\\\\Users\\\\d.cadavid141\\\\Documents\\\\Coisas Daniela\\\\201920\\\\201920\\\\00_Bases\\\\brazilian-ecommerce'"
      ]
     },
     "execution_count": 6,
     "metadata": {},
     "output_type": "execute_result"
    }
   ],
   "source": [
    "#os.chdir(\"/Users/danielacadavid/Documents/Universidad/Maestria/201920/00_Bases/brazilian-ecommerce/\")\n",
    "os.chdir(\"C:\\\\Users\\\\d.cadavid141\\\\Documents\\\\Coisas Daniela\\\\201920\\\\201920\\\\00_Bases\\\\brazilian-ecommerce\\\\\")\n",
    "os.getcwd()"
   ]
  },
  {
   "cell_type": "code",
   "execution_count": 7,
   "metadata": {},
   "outputs": [],
   "source": [
    "orders=pd.read_csv('data_tratada_v_nao.csv')"
   ]
  },
  {
   "cell_type": "code",
   "execution_count": 8,
   "metadata": {},
   "outputs": [],
   "source": [
    "####### ACA SE CREA EL BOW\n",
    "from sklearn.feature_extraction.text import TfidfVectorizer\n",
    "vectorizer = TfidfVectorizer()\n",
    "X_tfidf = vectorizer.fit_transform(orders.review_comment_message).toarray()\n",
    "#y_count = orders.review_score\n"
   ]
  },
  {
   "cell_type": "code",
   "execution_count": 11,
   "metadata": {},
   "outputs": [],
   "source": [
    "# Creating the class label\n",
    "bin_edges = [0, 2, 5]\n",
    "bin_names = ['0', '1']\n",
    "orders['class'] = pd.cut(orders['review_score'] , bins=bin_edges, labels=bin_names)\n",
    "#orders = orders.iloc[:, np.r_[0, 1, 3, 4, 2, 5,6]"
   ]
  },
  {
   "cell_type": "code",
   "execution_count": 13,
   "metadata": {},
   "outputs": [
    {
     "data": {
      "text/plain": [
       "array([1, 1, 1, ..., 1, 0, 0])"
      ]
     },
     "execution_count": 13,
     "metadata": {},
     "output_type": "execute_result"
    }
   ],
   "source": [
    "y = orders['class'].values\n",
    "Y_tf = y.astype(int)\n",
    "Y_tf"
   ]
  },
  {
   "cell_type": "code",
   "execution_count": 14,
   "metadata": {},
   "outputs": [],
   "source": [
    "from sklearn.model_selection import train_test_split\n",
    "\n",
    "X_train, X_test, y_train, y_test = train_test_split(X_tfidf, Y_tf, test_size = 3/10, random_state = 9)"
   ]
  },
  {
   "cell_type": "code",
   "execution_count": 15,
   "metadata": {},
   "outputs": [],
   "source": [
    "# Standardize the data to have a mean of ~0 and a variance of 1\n",
    "X_std = StandardScaler().fit_transform(X_train)\n",
    "X_std_test = StandardScaler().fit_transform(X_test)"
   ]
  },
  {
   "cell_type": "markdown",
   "metadata": {},
   "source": [
    "## PCA "
   ]
  },
  {
   "cell_type": "code",
   "execution_count": 16,
   "metadata": {},
   "outputs": [],
   "source": [
    "# load the model from disk\n",
    "filename='finalized_model_pca.sav'\n",
    "pca = pickle.load(open(filename, 'rb'))"
   ]
  },
  {
   "cell_type": "code",
   "execution_count": 18,
   "metadata": {},
   "outputs": [],
   "source": [
    "#Apply the mapping (transform) to both the training set and the test set.\n",
    "X_train_pca = pca.transform(X_std)\n",
    "X_test_pca = pca.transform(X_std_test)"
   ]
  },
  {
   "cell_type": "code",
   "execution_count": 20,
   "metadata": {},
   "outputs": [],
   "source": [
    "X_train_mod=pd.DataFrame(X_train_pca)\n",
    "#X_train_mod.columns = cols\n",
    "\n",
    "X_test_mod=pd.DataFrame(X_test_pca)\n",
    "#X_test_mod.columns = cols"
   ]
  },
  {
   "cell_type": "code",
   "execution_count": 22,
   "metadata": {},
   "outputs": [],
   "source": [
    "X_train_n=X_train_mod\n",
    "X_test_n=X_test_mod"
   ]
  },
  {
   "cell_type": "code",
   "execution_count": 41,
   "metadata": {},
   "outputs": [],
   "source": [
    "from tqdm import tqdm\n",
    "getattr(tqdm, '_instances', {}).clear()  # ⬅ add this line"
   ]
  },
  {
   "cell_type": "markdown",
   "metadata": {},
   "source": [
    "## REG LOGISTICA "
   ]
  },
  {
   "cell_type": "code",
   "execution_count": 42,
   "metadata": {},
   "outputs": [
    {
     "name": "stderr",
     "output_type": "stream",
     "text": [
      "100%|██████████| 3216/3216 [5:41:30<00:00,  6.37s/it]  \n"
     ]
    },
    {
     "name": "stdout",
     "output_type": "stream",
     "text": [
      "Se necesitan:  2849  variables\n",
      "Para tener: 85.896  de AUC\n"
     ]
    }
   ],
   "source": [
    "auc_f=0\n",
    "idx = 0\n",
    "random = [1,len(X_train_mod.columns)]\n",
    "array_lr= np.empty((3216, 3))\n",
    "\n",
    "for var in tqdm(range(len(X_train_mod.columns))):\n",
    "    \n",
    "    if var==0:\n",
    "        X_train_t=X_train_n[X_train_n.columns[0:1]]\n",
    "        X_test_t =X_test_n[X_test_n.columns[0:1]]\n",
    "        logr = LogisticRegression(C=0.000001, random_state=9)\n",
    "        logr.fit(X_train_t, y_train)\n",
    "        rf_roc_auc=roc_auc_score(y_test, logr.predict(X_test_t))\n",
    "        rf_roc_auc_train=roc_auc_score(y_train, logr.predict(X_train_t))\n",
    "        vect_random=[var+1,rf_roc_auc,rf_roc_auc_train]\n",
    "        array_lr = vect_random\n",
    "    else:\n",
    "        X_train_t=X_train_n[X_train_n.columns[0:var+1]]\n",
    "        X_test_t =X_test_n[X_test_n.columns[0:var+1]]\n",
    "        logr = LogisticRegression(C=0.000001, random_state=9)\n",
    "        logr.fit(X_train_t, y_train)\n",
    "        rf_roc_auc=roc_auc_score(y_test, logr.predict(X_test_t))\n",
    "        rf_roc_auc_train=roc_auc_score(y_train, logr.predict(X_train_t))\n",
    "        vect_random=[var+1,rf_roc_auc,rf_roc_auc_train]\n",
    "        array_lr = np.vstack((array_lr,vect_random))\n",
    "        \n",
    "    if rf_roc_auc>auc_f:\n",
    "        auc_f=rf_roc_auc\n",
    "        idx=var+1\n",
    "\n",
    "    else:\n",
    "        auc_f=auc_f\n",
    "        idx=idx\n",
    "        #break    # break here\n",
    "        \n",
    "    df_return = idx\n",
    "print(\"Se necesitan: \", idx,\" variables\")\n",
    "print(\"Para tener: {0:.3f}\".format(auc_f*100),\" de AUC\")"
   ]
  },
  {
   "cell_type": "code",
   "execution_count": 43,
   "metadata": {},
   "outputs": [],
   "source": [
    "salvar_lr=pd.DataFrame(array_lr)\n",
    "cols_array=['NumVar','AUC','AUC_train']\n",
    "salvar_lr.columns=cols_array\n",
    "salvar_lr.to_csv('array_lr_pca_001.csv')"
   ]
  },
  {
   "cell_type": "code",
   "execution_count": 44,
   "metadata": {},
   "outputs": [
    {
     "data": {
      "image/png": "[encoded data removed]",
      "text/plain": [
       "<Figure size 432x288 with 1 Axes>"
      ]
     },
     "metadata": {
      "needs_background": "light"
     },
     "output_type": "display_data"
    }
   ],
   "source": [
    "%matplotlib inline\n",
    "plt.figure()\n",
    "plt.plot(array_lr[:,0], array_lr[:,2],label='Entrenamiento: (AUC {0:.2f}'.format(array_lr[df_return-1,2]*100)+' con variables {0:.0f}'.format(array_lr[df_return-1,0])+')')\n",
    "plt.plot(array_lr[:,0], array_lr[:,1],label='Validación: (AUC {0:.2f}'.format(array_lr[df_return-1,1]*100)+' con variables {0:.0f}'.format(array_lr[df_return-1,0])+')')\n",
    "#plt.plot([0, 1586.0], [0, 1],'r--')\n",
    "plt.xlim([0.0, 3216.0])\n",
    "plt.ylim([0.0, 1.05])\n",
    "plt.xlabel('Número de componentes')\n",
    "plt.ylabel('AUC')\n",
    "plt.title('Núm. Comp Vs. AUC')\n",
    "plt.legend(loc=\"lower right\")\n",
    "plt.savefig('LR_Vars_PCA')\n",
    "plt.show()"
   ]
  },
  {
   "cell_type": "code",
   "execution_count": 45,
   "metadata": {},
   "outputs": [],
   "source": [
    "X_train_t=X_train_n[X_train_n.columns[0:df_return]]\n",
    "X_test_t =X_test_n[X_test_n.columns[0:df_return]]\n",
    "logr = LogisticRegression(C=0.000001, random_state=9)\n",
    "logr.fit(X_train_t, y_train)\n",
    "lr_roc_auc=roc_auc_score(y_test, logr.predict(X_test_t))"
   ]
  },
  {
   "cell_type": "code",
   "execution_count": null,
   "metadata": {},
   "outputs": [],
   "source": [
    "# save the model to disk\n",
    "filename = 'finalized_model_pca_lr.sav'\n",
    "pickle.dump(logr, open(filename, 'wb'))"
   ]
  },
  {
   "cell_type": "code",
   "execution_count": 46,
   "metadata": {},
   "outputs": [
    {
     "data": {
      "image/png": "[encoded data removed]",
      "text/plain": [
       "<Figure size 432x288 with 1 Axes>"
      ]
     },
     "metadata": {
      "needs_background": "light"
     },
     "output_type": "display_data"
    }
   ],
   "source": [
    "# ROC Logistic Reg\n",
    "%matplotlib inline\n",
    "#rf_roc_auc = roc_auc_score(y_test, logr.predict(X_test_t))\n",
    "fpr, tpr, thresholds = roc_curve(y_test, logr.predict_proba(X_test_t)[:,1])\n",
    "plt.figure()\n",
    "plt.plot(fpr, tpr, label='Random Forest (area = %0.2f)' % lr_roc_auc)\n",
    "plt.plot([0, 1], [0, 1],'r--')\n",
    "plt.xlim([0.0, 1.0])\n",
    "plt.ylim([0.0, 1.05])\n",
    "plt.xlabel('False Positive Rate')\n",
    "plt.ylabel('True Positive Rate')\n",
    "plt.title('Receiver operating characteristic')\n",
    "plt.legend(loc=\"lower right\")\n",
    "plt.savefig('LR_ROC')\n",
    "plt.show()"
   ]
  },
  {
   "cell_type": "code",
   "execution_count": null,
   "metadata": {},
   "outputs": [],
   "source": [
    "empty_train_performance = create_dataset()\n",
    "lr_performance = model_analysis(logr, X_train_t, y_train, X_test_t, y_test,empty_train_performance)\n",
    "lr_performance"
   ]
  },
  {
   "cell_type": "markdown",
   "metadata": {},
   "source": [
    "## Gradient boosting "
   ]
  },
  {
   "cell_type": "code",
   "execution_count": 49,
   "metadata": {},
   "outputs": [],
   "source": [
    "from tqdm import tqdm\n",
    "getattr(tqdm, '_instances', {}).clear()  # ⬅ add this line"
   ]
  },
  {
   "cell_type": "code",
   "execution_count": 50,
   "metadata": {},
   "outputs": [
    {
     "name": "stderr",
     "output_type": "stream",
     "text": [
      "  0%|          | 0/3216 [00:00<?, ?it/s]"
     ]
    },
    {
     "name": "stdout",
     "output_type": "stream",
     "text": [
      "Iteracion:  1\n"
     ]
    },
    {
     "name": "stderr",
     "output_type": "stream",
     "text": [
      "  1%|          | 23/3216 [02:10<5:00:55,  5.65s/it]\n",
      "100%|██████████| 3216/3216 [70:06:57<00:00, 78.49s/it]    \n"
     ]
    },
    {
     "name": "stdout",
     "output_type": "stream",
     "text": [
      "Se necesitan:  524  variables\n",
      "Para tener: 85.138  de AUC\n"
     ]
    }
   ],
   "source": [
    "auc_f=0\n",
    "idx = 0\n",
    "dif=0.000005\n",
    "random = [1,len(X_train_mod.columns)]\n",
    "array_gb= np.empty((3216, 3))\n",
    "\n",
    "for var in tqdm(range(len(X_train_mod.columns))):\n",
    "    \n",
    "    if var==0:\n",
    "        X_train_t=X_train_n[X_train_n.columns[0:1]]\n",
    "        X_test_t =X_test_n[X_test_n.columns[0:1]]\n",
    "        gb_clf = GradientBoostingClassifier(learning_rate=0.2,max_depth=5, random_state=9)\n",
    "        gb_clf.fit(X_train_t, y_train)\n",
    "        rf_roc_auc=roc_auc_score(y_test, gb_clf.predict(X_test_t))\n",
    "        rf_roc_auc_train=roc_auc_score(y_train, gb_clf.predict(X_train_t))\n",
    "        vect_random=[1,rf_roc_auc,rf_roc_auc_train]\n",
    "        array_gb = vect_random\n",
    "    else:\n",
    "        X_train_t=X_train_n[X_train_n.columns[0:var+1]]\n",
    "        X_test_t =X_test_n[X_test_n.columns[0:var+1]]\n",
    "        gb_clf = GradientBoostingClassifier(n_estimators=100, learning_rate=0.2, max_features=\"sqrt\", max_depth=5, random_state=9)\n",
    "        gb_clf.fit(X_train_t, y_train)\n",
    "        rf_roc_auc=roc_auc_score(y_test, gb_clf.predict(X_test_t))\n",
    "        rf_roc_auc_train=roc_auc_score(y_train, gb_clf.predict(X_train_t))\n",
    "        vect_random=[var+1,rf_roc_auc,rf_roc_auc_train]\n",
    " #       idx=var+1\n",
    "        array_gb = np.vstack((array_gb,vect_random))\n",
    "        \n",
    "    if rf_roc_auc>auc_f:\n",
    "        auc_f=rf_roc_auc\n",
    "        idx=var+1\n",
    "        if idx in [1,100,500,1000,1500]:\n",
    "            print(\"Iteracion: \",idx)\n",
    "    else:\n",
    "        auc_f=auc_f\n",
    "        idx=idx\n",
    "        #break    # break here\n",
    "        \n",
    "    df_return = idx\n",
    "print(\"Se necesitan: \", idx,\" variables\")\n",
    "print(\"Para tener: {0:.3f}\".format(auc_f*100),\" de AUC\")"
   ]
  },
  {
   "cell_type": "code",
   "execution_count": 51,
   "metadata": {},
   "outputs": [],
   "source": [
    "salvar_gb=pd.DataFrame(array_gb)\n",
    "cols_array=['NumComp','AUC','AUC_train']\n",
    "salvar_gb.columns=cols_array\n",
    "salvar_gb.to_csv('array_gb_pca_02.csv')"
   ]
  },
  {
   "cell_type": "code",
   "execution_count": 52,
   "metadata": {},
   "outputs": [
    {
     "data": {
      "image/png": "[encoded data removed]",
      "text/plain": [
       "<Figure size 432x288 with 1 Axes>"
      ]
     },
     "metadata": {
      "needs_background": "light"
     },
     "output_type": "display_data"
    }
   ],
   "source": [
    "%matplotlib inline\n",
    "plt.figure()\n",
    "plt.plot(array_gb[:,0], array_gb[:,2],label='Entrenamiento: (AUC {0:.1f}'.format(array_gb[df_return-1,2]*100)+' con variables {0:.0f}'.format(array_gb[df_return-1,0])+')')\n",
    "plt.plot(array_gb[:,0], array_gb[:,1],label='Validación: (AUC {0:.1f}'.format(array_gb[df_return-1,1]*100)+' con variables {0:.0f}'.format(array_gb[df_return-1,0])+')')\n",
    "\n",
    "#plt.plot(array_gb[:,0], array_gb[:,1],label='Mayor: (AUC {0:.1f}'.format(0.8517*100)+' con variables {0:.0f}'.format(array_gb[df_return-1,0])+')')\n",
    "\n",
    "#plt.plot([0, 1586.0], [0, 1],'r--')\n",
    "plt.xlim([0.0, 3217])\n",
    "plt.ylim([0.0, 1.05])\n",
    "plt.xlabel('Número de componentes')\n",
    "plt.ylabel('AUC')\n",
    "plt.title('Núm. Comp Vs. AUC')\n",
    "plt.legend(loc=\"lower right\")\n",
    "plt.savefig('GB_PCA')\n",
    "plt.show()"
   ]
  },
  {
   "cell_type": "code",
   "execution_count": 53,
   "metadata": {},
   "outputs": [],
   "source": [
    "X_train_t=X_train_n[X_train_n.columns[0:df_return]]\n",
    "X_test_t =X_test_n[X_test_n.columns[0:df_return]]\n",
    "gb_clf = GradientBoostingClassifier(n_estimators=100,learning_rate=0.2,max_features=\"sqrt\", max_depth=5, random_state=9)\n",
    "gb_clf.fit(X_train_t, y_train)\n",
    "gb_roc_auc=roc_auc_score(y_test, gb_clf.predict(X_test_t))"
   ]
  },
  {
   "cell_type": "code",
   "execution_count": 54,
   "metadata": {},
   "outputs": [
    {
     "data": {
      "image/png": "[encoded data removed]",
      "text/plain": [
       "<Figure size 432x288 with 1 Axes>"
      ]
     },
     "metadata": {
      "needs_background": "light"
     },
     "output_type": "display_data"
    }
   ],
   "source": [
    "# ROC GB\n",
    "%matplotlib inline\n",
    "#rf_roc_auc = roc_auc_score(y_test, gb_clf.predict(X_test_t))\n",
    "fpr, tpr, thresholds = roc_curve(y_test, gb_clf.predict_proba(X_test_t)[:,1])\n",
    "plt.figure()\n",
    "plt.plot(fpr, tpr, label='Gradient Boosting (area = %0.2f)' % gb_roc_auc)\n",
    "#plt.plot(fpr, tpr, label='Random Forest (area = %2.1f)' % (gb_roc_auc*100))\n",
    "plt.plot([0, 1], [0, 1],'r--')\n",
    "plt.xlim([0.0, 1.0])\n",
    "plt.ylim([0.0, 1.05])\n",
    "plt.xlabel('False Positive Rate')\n",
    "plt.ylabel('True Positive Rate')\n",
    "plt.title('Receiver operating characteristic')\n",
    "plt.legend(loc=\"lower right\")\n",
    "plt.savefig('GB_ROC_PCA')\n",
    "plt.show()"
   ]
  },
  {
   "cell_type": "code",
   "execution_count": null,
   "metadata": {},
   "outputs": [],
   "source": []
  }
 ],
 "metadata": {
  "kernelspec": {
   "display_name": "Python 3",
   "language": "python",
   "name": "python3"
  },
  "language_info": {
   "codemirror_mode": {
    "name": "ipython",
    "version": 3
   },
   "file_extension": ".py",
   "mimetype": "text/x-python",
   "name": "python",
   "nbconvert_exporter": "python",
   "pygments_lexer": "ipython3",
   "version": "3.7.4"
  }
 },
 "nbformat": 4,
 "nbformat_minor": 4
}